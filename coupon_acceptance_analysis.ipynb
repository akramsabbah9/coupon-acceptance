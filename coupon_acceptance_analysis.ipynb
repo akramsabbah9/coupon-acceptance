{
  "cells": [
    {
      "cell_type": "markdown",
      "metadata": {
        "id": "CcUT6Fon_qRE"
      },
      "source": [
        "### Required Assignment 5.1: Will the Customer Accept the Coupon?\n",
        "\n",
        "**Context**\n",
        "\n",
        "Imagine driving through town and a coupon is delivered to your cell phone for a restaurant near where you are driving. Would you accept that coupon and take a short detour to the restaurant? Would you accept the coupon but use it on a subsequent trip? Would you ignore the coupon entirely? What if the coupon was for a bar instead of a restaurant? What about a coffee house? Would you accept a bar coupon with a minor passenger in the car? What about if it was just you and your partner in the car? Would weather impact the rate of acceptance? What about the time of day?\n",
        "\n",
        "Obviously, proximity to the business is a factor on whether the coupon is delivered to the driver or not, but what are the factors that determine whether a driver accepts the coupon once it is delivered to them? How would you determine whether a driver is likely to accept a coupon?\n",
        "\n",
        "**Overview**\n",
        "\n",
        "The goal of this project is to use what you know about visualizations and probability distributions to distinguish between customers who accepted a driving coupon versus those that did not.\n",
        "\n",
        "**Data**\n",
        "\n",
        "This data comes to us from the UCI Machine Learning repository and was collected via a survey on Amazon Mechanical Turk. The survey describes different driving scenarios including the destination, current time, weather, passenger, etc., and then ask the person whether he will accept the coupon if he is the driver. Answers that the user will drive there ‘right away’ or ‘later before the coupon expires’ are labeled as ‘Y = 1’ and answers ‘no, I do not want the coupon’ are labeled as ‘Y = 0’.  There are five different types of coupons -- less expensive restaurants (under \\\\$20), coffee houses, carry out & take away, bar, and more expensive restaurants (\\\\$20 - \\\\$50)."
      ]
    },
    {
      "cell_type": "markdown",
      "metadata": {
        "id": "1wORvMBJ_qRF"
      },
      "source": [
        "**Deliverables**\n",
        "\n",
        "Your final product should be a brief report that highlights the differences between customers who did and did not accept the coupons.  To explore the data you will utilize your knowledge of plotting, statistical summaries, and visualization using Python. You will publish your findings in a public facing github repository as your first portfolio piece.\n",
        "\n",
        "\n",
        "\n"
      ]
    },
    {
      "cell_type": "markdown",
      "metadata": {
        "id": "pG6_Ym6q_qRG"
      },
      "source": [
        "### Data Description\n",
        "Keep in mind that these values mentioned below are average values.\n",
        "\n",
        "The attributes of this data set include:\n",
        "1. User attributes\n",
        "    -  Gender: male, female\n",
        "    -  Age: below 21, 21 to 25, 26 to 30, etc.\n",
        "    -  Marital Status: single, married partner, unmarried partner, or widowed\n",
        "    -  Number of children: 0, 1, or more than 1\n",
        "    -  Education: high school, bachelors degree, associates degree, or graduate degree\n",
        "    -  Occupation: architecture & engineering, business & financial, etc.\n",
        "    -  Annual income: less than \\\\$12500, \\\\$12500 - \\\\$24999, \\\\$25000 - \\\\$37499, etc.\n",
        "    -  Number of times that he/she goes to a bar: 0, less than 1, 1 to 3, 4 to 8 or greater than 8\n",
        "    -  Number of times that he/she buys takeaway food: 0, less than 1, 1 to 3, 4 to 8 or greater\n",
        "    than 8\n",
        "    -  Number of times that he/she goes to a coffee house: 0, less than 1, 1 to 3, 4 to 8 or\n",
        "    greater than 8\n",
        "    -  Number of times that he/she eats at a restaurant with average expense less than \\\\$20 per\n",
        "    person: 0, less than 1, 1 to 3, 4 to 8 or greater than 8\n",
        "    -  Number of times that he/she goes to a bar: 0, less than 1, 1 to 3, 4 to 8 or greater than 8\n",
        "    \n",
        "\n",
        "2. Contextual attributes\n",
        "    - Driving destination: home, work, or no urgent destination\n",
        "    - Location of user, coupon and destination: we provide a map to show the geographical\n",
        "    location of the user, destination, and the venue, and we mark the distance between each\n",
        "    two places with time of driving. The user can see whether the venue is in the same\n",
        "    direction as the destination.\n",
        "    - Weather: sunny, rainy, or snowy\n",
        "    - Temperature: 30F, 55F, or 80F\n",
        "    - Time: 10AM, 2PM, or 6PM\n",
        "    - Passenger: alone, partner, kid(s), or friend(s)\n",
        "\n",
        "\n",
        "3. Coupon attributes\n",
        "    - time before it expires: 2 hours or one day"
      ]
    },
    {
      "cell_type": "code",
      "execution_count": 1,
      "metadata": {
        "id": "dzNoP3o__qRG"
      },
      "outputs": [],
      "source": [
        "import matplotlib.pyplot as plt\n",
        "import seaborn as sns\n",
        "import pandas as pd\n",
        "import numpy as np"
      ]
    },
    {
      "cell_type": "markdown",
      "metadata": {
        "id": "Ct8pI1uE_qRG"
      },
      "source": [
        "### Problems\n",
        "\n",
        "Use the prompts below to get started with your data analysis.  \n",
        "\n",
        "1. Read in the `coupons.csv` file.\n",
        "\n",
        "\n"
      ]
    },
    {
      "cell_type": "code",
      "execution_count": 2,
      "metadata": {
        "id": "X0vbffYg_qRH"
      },
      "outputs": [],
      "source": [
        "data = pd.read_csv('data/coupons.csv')"
      ]
    },
    {
      "cell_type": "code",
      "execution_count": 3,
      "metadata": {
        "id": "TXofQ_DF_qRH",
        "outputId": "2fc96a2c-1112-4b54-f24f-dbb9bc88abfb"
      },
      "outputs": [
        {
          "data": {
            "text/html": [
              "<div>\n",
              "<style scoped>\n",
              "    .dataframe tbody tr th:only-of-type {\n",
              "        vertical-align: middle;\n",
              "    }\n",
              "\n",
              "    .dataframe tbody tr th {\n",
              "        vertical-align: top;\n",
              "    }\n",
              "\n",
              "    .dataframe thead th {\n",
              "        text-align: right;\n",
              "    }\n",
              "</style>\n",
              "<table border=\"1\" class=\"dataframe\">\n",
              "  <thead>\n",
              "    <tr style=\"text-align: right;\">\n",
              "      <th></th>\n",
              "      <th>destination</th>\n",
              "      <th>passanger</th>\n",
              "      <th>weather</th>\n",
              "      <th>temperature</th>\n",
              "      <th>time</th>\n",
              "      <th>coupon</th>\n",
              "      <th>expiration</th>\n",
              "      <th>gender</th>\n",
              "      <th>age</th>\n",
              "      <th>maritalStatus</th>\n",
              "      <th>has_children</th>\n",
              "      <th>education</th>\n",
              "      <th>occupation</th>\n",
              "      <th>income</th>\n",
              "      <th>car</th>\n",
              "      <th>Bar</th>\n",
              "      <th>CoffeeHouse</th>\n",
              "      <th>CarryAway</th>\n",
              "      <th>RestaurantLessThan20</th>\n",
              "      <th>Restaurant20To50</th>\n",
              "      <th>toCoupon_GEQ5min</th>\n",
              "      <th>toCoupon_GEQ15min</th>\n",
              "      <th>toCoupon_GEQ25min</th>\n",
              "      <th>direction_same</th>\n",
              "      <th>direction_opp</th>\n",
              "      <th>Y</th>\n",
              "    </tr>\n",
              "  </thead>\n",
              "  <tbody>\n",
              "    <tr>\n",
              "      <th>0</th>\n",
              "      <td>No Urgent Place</td>\n",
              "      <td>Alone</td>\n",
              "      <td>Sunny</td>\n",
              "      <td>55</td>\n",
              "      <td>2PM</td>\n",
              "      <td>Restaurant(&lt;20)</td>\n",
              "      <td>1d</td>\n",
              "      <td>Female</td>\n",
              "      <td>21</td>\n",
              "      <td>Unmarried partner</td>\n",
              "      <td>1</td>\n",
              "      <td>Some college - no degree</td>\n",
              "      <td>Unemployed</td>\n",
              "      <td>$37500 - $49999</td>\n",
              "      <td>NaN</td>\n",
              "      <td>never</td>\n",
              "      <td>never</td>\n",
              "      <td>NaN</td>\n",
              "      <td>4~8</td>\n",
              "      <td>1~3</td>\n",
              "      <td>1</td>\n",
              "      <td>0</td>\n",
              "      <td>0</td>\n",
              "      <td>0</td>\n",
              "      <td>1</td>\n",
              "      <td>1</td>\n",
              "    </tr>\n",
              "    <tr>\n",
              "      <th>1</th>\n",
              "      <td>No Urgent Place</td>\n",
              "      <td>Friend(s)</td>\n",
              "      <td>Sunny</td>\n",
              "      <td>80</td>\n",
              "      <td>10AM</td>\n",
              "      <td>Coffee House</td>\n",
              "      <td>2h</td>\n",
              "      <td>Female</td>\n",
              "      <td>21</td>\n",
              "      <td>Unmarried partner</td>\n",
              "      <td>1</td>\n",
              "      <td>Some college - no degree</td>\n",
              "      <td>Unemployed</td>\n",
              "      <td>$37500 - $49999</td>\n",
              "      <td>NaN</td>\n",
              "      <td>never</td>\n",
              "      <td>never</td>\n",
              "      <td>NaN</td>\n",
              "      <td>4~8</td>\n",
              "      <td>1~3</td>\n",
              "      <td>1</td>\n",
              "      <td>0</td>\n",
              "      <td>0</td>\n",
              "      <td>0</td>\n",
              "      <td>1</td>\n",
              "      <td>0</td>\n",
              "    </tr>\n",
              "    <tr>\n",
              "      <th>2</th>\n",
              "      <td>No Urgent Place</td>\n",
              "      <td>Friend(s)</td>\n",
              "      <td>Sunny</td>\n",
              "      <td>80</td>\n",
              "      <td>10AM</td>\n",
              "      <td>Carry out &amp; Take away</td>\n",
              "      <td>2h</td>\n",
              "      <td>Female</td>\n",
              "      <td>21</td>\n",
              "      <td>Unmarried partner</td>\n",
              "      <td>1</td>\n",
              "      <td>Some college - no degree</td>\n",
              "      <td>Unemployed</td>\n",
              "      <td>$37500 - $49999</td>\n",
              "      <td>NaN</td>\n",
              "      <td>never</td>\n",
              "      <td>never</td>\n",
              "      <td>NaN</td>\n",
              "      <td>4~8</td>\n",
              "      <td>1~3</td>\n",
              "      <td>1</td>\n",
              "      <td>1</td>\n",
              "      <td>0</td>\n",
              "      <td>0</td>\n",
              "      <td>1</td>\n",
              "      <td>1</td>\n",
              "    </tr>\n",
              "    <tr>\n",
              "      <th>3</th>\n",
              "      <td>No Urgent Place</td>\n",
              "      <td>Friend(s)</td>\n",
              "      <td>Sunny</td>\n",
              "      <td>80</td>\n",
              "      <td>2PM</td>\n",
              "      <td>Coffee House</td>\n",
              "      <td>2h</td>\n",
              "      <td>Female</td>\n",
              "      <td>21</td>\n",
              "      <td>Unmarried partner</td>\n",
              "      <td>1</td>\n",
              "      <td>Some college - no degree</td>\n",
              "      <td>Unemployed</td>\n",
              "      <td>$37500 - $49999</td>\n",
              "      <td>NaN</td>\n",
              "      <td>never</td>\n",
              "      <td>never</td>\n",
              "      <td>NaN</td>\n",
              "      <td>4~8</td>\n",
              "      <td>1~3</td>\n",
              "      <td>1</td>\n",
              "      <td>1</td>\n",
              "      <td>0</td>\n",
              "      <td>0</td>\n",
              "      <td>1</td>\n",
              "      <td>0</td>\n",
              "    </tr>\n",
              "    <tr>\n",
              "      <th>4</th>\n",
              "      <td>No Urgent Place</td>\n",
              "      <td>Friend(s)</td>\n",
              "      <td>Sunny</td>\n",
              "      <td>80</td>\n",
              "      <td>2PM</td>\n",
              "      <td>Coffee House</td>\n",
              "      <td>1d</td>\n",
              "      <td>Female</td>\n",
              "      <td>21</td>\n",
              "      <td>Unmarried partner</td>\n",
              "      <td>1</td>\n",
              "      <td>Some college - no degree</td>\n",
              "      <td>Unemployed</td>\n",
              "      <td>$37500 - $49999</td>\n",
              "      <td>NaN</td>\n",
              "      <td>never</td>\n",
              "      <td>never</td>\n",
              "      <td>NaN</td>\n",
              "      <td>4~8</td>\n",
              "      <td>1~3</td>\n",
              "      <td>1</td>\n",
              "      <td>1</td>\n",
              "      <td>0</td>\n",
              "      <td>0</td>\n",
              "      <td>1</td>\n",
              "      <td>0</td>\n",
              "    </tr>\n",
              "  </tbody>\n",
              "</table>\n",
              "</div>"
            ],
            "text/plain": [
              "       destination  passanger weather  temperature  time  \\\n",
              "0  No Urgent Place      Alone   Sunny           55   2PM   \n",
              "1  No Urgent Place  Friend(s)   Sunny           80  10AM   \n",
              "2  No Urgent Place  Friend(s)   Sunny           80  10AM   \n",
              "3  No Urgent Place  Friend(s)   Sunny           80   2PM   \n",
              "4  No Urgent Place  Friend(s)   Sunny           80   2PM   \n",
              "\n",
              "                  coupon expiration  gender age      maritalStatus  \\\n",
              "0        Restaurant(<20)         1d  Female  21  Unmarried partner   \n",
              "1           Coffee House         2h  Female  21  Unmarried partner   \n",
              "2  Carry out & Take away         2h  Female  21  Unmarried partner   \n",
              "3           Coffee House         2h  Female  21  Unmarried partner   \n",
              "4           Coffee House         1d  Female  21  Unmarried partner   \n",
              "\n",
              "   has_children                 education  occupation           income  car  \\\n",
              "0             1  Some college - no degree  Unemployed  $37500 - $49999  NaN   \n",
              "1             1  Some college - no degree  Unemployed  $37500 - $49999  NaN   \n",
              "2             1  Some college - no degree  Unemployed  $37500 - $49999  NaN   \n",
              "3             1  Some college - no degree  Unemployed  $37500 - $49999  NaN   \n",
              "4             1  Some college - no degree  Unemployed  $37500 - $49999  NaN   \n",
              "\n",
              "     Bar CoffeeHouse CarryAway RestaurantLessThan20 Restaurant20To50  \\\n",
              "0  never       never       NaN                  4~8              1~3   \n",
              "1  never       never       NaN                  4~8              1~3   \n",
              "2  never       never       NaN                  4~8              1~3   \n",
              "3  never       never       NaN                  4~8              1~3   \n",
              "4  never       never       NaN                  4~8              1~3   \n",
              "\n",
              "   toCoupon_GEQ5min  toCoupon_GEQ15min  toCoupon_GEQ25min  direction_same  \\\n",
              "0                 1                  0                  0               0   \n",
              "1                 1                  0                  0               0   \n",
              "2                 1                  1                  0               0   \n",
              "3                 1                  1                  0               0   \n",
              "4                 1                  1                  0               0   \n",
              "\n",
              "   direction_opp  Y  \n",
              "0              1  1  \n",
              "1              1  0  \n",
              "2              1  1  \n",
              "3              1  0  \n",
              "4              1  0  "
            ]
          },
          "execution_count": 3,
          "metadata": {},
          "output_type": "execute_result"
        }
      ],
      "source": [
        "pd.set_option('display.max_columns', None)\n",
        "data.head()"
      ]
    },
    {
      "cell_type": "markdown",
      "metadata": {
        "id": "GcDs78ZH_qRH"
      },
      "source": [
        "2. Investigate the dataset for missing or problematic data."
      ]
    },
    {
      "cell_type": "code",
      "execution_count": 4,
      "metadata": {
        "id": "6CwL6oWj_qRH"
      },
      "outputs": [
        {
          "name": "stdout",
          "output_type": "stream",
          "text": [
            "<class 'pandas.core.frame.DataFrame'>\n",
            "RangeIndex: 12684 entries, 0 to 12683\n",
            "Data columns (total 26 columns):\n",
            " #   Column                Non-Null Count  Dtype \n",
            "---  ------                --------------  ----- \n",
            " 0   destination           12684 non-null  object\n",
            " 1   passanger             12684 non-null  object\n",
            " 2   weather               12684 non-null  object\n",
            " 3   temperature           12684 non-null  int64 \n",
            " 4   time                  12684 non-null  object\n",
            " 5   coupon                12684 non-null  object\n",
            " 6   expiration            12684 non-null  object\n",
            " 7   gender                12684 non-null  object\n",
            " 8   age                   12684 non-null  object\n",
            " 9   maritalStatus         12684 non-null  object\n",
            " 10  has_children          12684 non-null  int64 \n",
            " 11  education             12684 non-null  object\n",
            " 12  occupation            12684 non-null  object\n",
            " 13  income                12684 non-null  object\n",
            " 14  car                   108 non-null    object\n",
            " 15  Bar                   12577 non-null  object\n",
            " 16  CoffeeHouse           12467 non-null  object\n",
            " 17  CarryAway             12533 non-null  object\n",
            " 18  RestaurantLessThan20  12554 non-null  object\n",
            " 19  Restaurant20To50      12495 non-null  object\n",
            " 20  toCoupon_GEQ5min      12684 non-null  int64 \n",
            " 21  toCoupon_GEQ15min     12684 non-null  int64 \n",
            " 22  toCoupon_GEQ25min     12684 non-null  int64 \n",
            " 23  direction_same        12684 non-null  int64 \n",
            " 24  direction_opp         12684 non-null  int64 \n",
            " 25  Y                     12684 non-null  int64 \n",
            "dtypes: int64(8), object(18)\n",
            "memory usage: 2.5+ MB\n"
          ]
        }
      ],
      "source": [
        "data.info()"
      ]
    },
    {
      "cell_type": "code",
      "execution_count": 5,
      "metadata": {},
      "outputs": [
        {
          "data": {
            "text/html": [
              "<div>\n",
              "<style scoped>\n",
              "    .dataframe tbody tr th:only-of-type {\n",
              "        vertical-align: middle;\n",
              "    }\n",
              "\n",
              "    .dataframe tbody tr th {\n",
              "        vertical-align: top;\n",
              "    }\n",
              "\n",
              "    .dataframe thead th {\n",
              "        text-align: right;\n",
              "    }\n",
              "</style>\n",
              "<table border=\"1\" class=\"dataframe\">\n",
              "  <thead>\n",
              "    <tr style=\"text-align: right;\">\n",
              "      <th></th>\n",
              "      <th>temperature</th>\n",
              "      <th>has_children</th>\n",
              "      <th>toCoupon_GEQ5min</th>\n",
              "      <th>toCoupon_GEQ15min</th>\n",
              "      <th>toCoupon_GEQ25min</th>\n",
              "      <th>direction_same</th>\n",
              "      <th>direction_opp</th>\n",
              "      <th>Y</th>\n",
              "    </tr>\n",
              "  </thead>\n",
              "  <tbody>\n",
              "    <tr>\n",
              "      <th>count</th>\n",
              "      <td>12684.000000</td>\n",
              "      <td>12684.000000</td>\n",
              "      <td>12684.0</td>\n",
              "      <td>12684.000000</td>\n",
              "      <td>12684.000000</td>\n",
              "      <td>12684.000000</td>\n",
              "      <td>12684.000000</td>\n",
              "      <td>12684.000000</td>\n",
              "    </tr>\n",
              "    <tr>\n",
              "      <th>mean</th>\n",
              "      <td>63.301798</td>\n",
              "      <td>0.414144</td>\n",
              "      <td>1.0</td>\n",
              "      <td>0.561495</td>\n",
              "      <td>0.119126</td>\n",
              "      <td>0.214759</td>\n",
              "      <td>0.785241</td>\n",
              "      <td>0.568433</td>\n",
              "    </tr>\n",
              "    <tr>\n",
              "      <th>std</th>\n",
              "      <td>19.154486</td>\n",
              "      <td>0.492593</td>\n",
              "      <td>0.0</td>\n",
              "      <td>0.496224</td>\n",
              "      <td>0.323950</td>\n",
              "      <td>0.410671</td>\n",
              "      <td>0.410671</td>\n",
              "      <td>0.495314</td>\n",
              "    </tr>\n",
              "    <tr>\n",
              "      <th>min</th>\n",
              "      <td>30.000000</td>\n",
              "      <td>0.000000</td>\n",
              "      <td>1.0</td>\n",
              "      <td>0.000000</td>\n",
              "      <td>0.000000</td>\n",
              "      <td>0.000000</td>\n",
              "      <td>0.000000</td>\n",
              "      <td>0.000000</td>\n",
              "    </tr>\n",
              "    <tr>\n",
              "      <th>25%</th>\n",
              "      <td>55.000000</td>\n",
              "      <td>0.000000</td>\n",
              "      <td>1.0</td>\n",
              "      <td>0.000000</td>\n",
              "      <td>0.000000</td>\n",
              "      <td>0.000000</td>\n",
              "      <td>1.000000</td>\n",
              "      <td>0.000000</td>\n",
              "    </tr>\n",
              "    <tr>\n",
              "      <th>50%</th>\n",
              "      <td>80.000000</td>\n",
              "      <td>0.000000</td>\n",
              "      <td>1.0</td>\n",
              "      <td>1.000000</td>\n",
              "      <td>0.000000</td>\n",
              "      <td>0.000000</td>\n",
              "      <td>1.000000</td>\n",
              "      <td>1.000000</td>\n",
              "    </tr>\n",
              "    <tr>\n",
              "      <th>75%</th>\n",
              "      <td>80.000000</td>\n",
              "      <td>1.000000</td>\n",
              "      <td>1.0</td>\n",
              "      <td>1.000000</td>\n",
              "      <td>0.000000</td>\n",
              "      <td>0.000000</td>\n",
              "      <td>1.000000</td>\n",
              "      <td>1.000000</td>\n",
              "    </tr>\n",
              "    <tr>\n",
              "      <th>max</th>\n",
              "      <td>80.000000</td>\n",
              "      <td>1.000000</td>\n",
              "      <td>1.0</td>\n",
              "      <td>1.000000</td>\n",
              "      <td>1.000000</td>\n",
              "      <td>1.000000</td>\n",
              "      <td>1.000000</td>\n",
              "      <td>1.000000</td>\n",
              "    </tr>\n",
              "  </tbody>\n",
              "</table>\n",
              "</div>"
            ],
            "text/plain": [
              "        temperature  has_children  toCoupon_GEQ5min  toCoupon_GEQ15min  \\\n",
              "count  12684.000000  12684.000000           12684.0       12684.000000   \n",
              "mean      63.301798      0.414144               1.0           0.561495   \n",
              "std       19.154486      0.492593               0.0           0.496224   \n",
              "min       30.000000      0.000000               1.0           0.000000   \n",
              "25%       55.000000      0.000000               1.0           0.000000   \n",
              "50%       80.000000      0.000000               1.0           1.000000   \n",
              "75%       80.000000      1.000000               1.0           1.000000   \n",
              "max       80.000000      1.000000               1.0           1.000000   \n",
              "\n",
              "       toCoupon_GEQ25min  direction_same  direction_opp             Y  \n",
              "count       12684.000000    12684.000000   12684.000000  12684.000000  \n",
              "mean            0.119126        0.214759       0.785241      0.568433  \n",
              "std             0.323950        0.410671       0.410671      0.495314  \n",
              "min             0.000000        0.000000       0.000000      0.000000  \n",
              "25%             0.000000        0.000000       1.000000      0.000000  \n",
              "50%             0.000000        0.000000       1.000000      1.000000  \n",
              "75%             0.000000        0.000000       1.000000      1.000000  \n",
              "max             1.000000        1.000000       1.000000      1.000000  "
            ]
          },
          "execution_count": 5,
          "metadata": {},
          "output_type": "execute_result"
        }
      ],
      "source": [
        "data.describe()"
      ]
    },
    {
      "cell_type": "code",
      "execution_count": 6,
      "metadata": {},
      "outputs": [
        {
          "name": "stdout",
          "output_type": "stream",
          "text": [
            "destination\n",
            "No Urgent Place    6283\n",
            "Home               3237\n",
            "Work               3164\n",
            "Name: count, dtype: int64\n",
            "\n",
            "passanger\n",
            "Alone        7305\n",
            "Friend(s)    3298\n",
            "Partner      1075\n",
            "Kid(s)       1006\n",
            "Name: count, dtype: int64\n",
            "\n",
            "weather\n",
            "Sunny    10069\n",
            "Snowy     1405\n",
            "Rainy     1210\n",
            "Name: count, dtype: int64\n",
            "\n",
            "temperature\n",
            "80    6528\n",
            "55    3840\n",
            "30    2316\n",
            "Name: count, dtype: int64\n",
            "\n",
            "time\n",
            "6PM     3230\n",
            "7AM     3164\n",
            "10AM    2275\n",
            "2PM     2009\n",
            "10PM    2006\n",
            "Name: count, dtype: int64\n",
            "\n",
            "coupon\n",
            "Coffee House             3996\n",
            "Restaurant(<20)          2786\n",
            "Carry out & Take away    2393\n",
            "Bar                      2017\n",
            "Restaurant(20-50)        1492\n",
            "Name: count, dtype: int64\n",
            "\n",
            "expiration\n",
            "1d    7091\n",
            "2h    5593\n",
            "Name: count, dtype: int64\n",
            "\n",
            "gender\n",
            "Female    6511\n",
            "Male      6173\n",
            "Name: count, dtype: int64\n",
            "\n",
            "age\n",
            "21         2653\n",
            "26         2559\n",
            "31         2039\n",
            "50plus     1788\n",
            "36         1319\n",
            "41         1093\n",
            "46          686\n",
            "below21     547\n",
            "Name: count, dtype: int64\n",
            "\n",
            "maritalStatus\n",
            "Married partner      5100\n",
            "Single               4752\n",
            "Unmarried partner    2186\n",
            "Divorced              516\n",
            "Widowed               130\n",
            "Name: count, dtype: int64\n",
            "\n",
            "has_children\n",
            "0    7431\n",
            "1    5253\n",
            "Name: count, dtype: int64\n",
            "\n",
            "education\n",
            "Some college - no degree                  4351\n",
            "Bachelors degree                          4335\n",
            "Graduate degree (Masters or Doctorate)    1852\n",
            "Associates degree                         1153\n",
            "High School Graduate                       905\n",
            "Some High School                            88\n",
            "Name: count, dtype: int64\n",
            "\n",
            "occupation\n",
            "Unemployed                                   1870\n",
            "Student                                      1584\n",
            "Computer & Mathematical                      1408\n",
            "Sales & Related                              1093\n",
            "Education&Training&Library                    943\n",
            "Management                                    838\n",
            "Office & Administrative Support               639\n",
            "Arts Design Entertainment Sports & Media      629\n",
            "Business & Financial                          544\n",
            "Retired                                       495\n",
            "Food Preparation & Serving Related            298\n",
            "Healthcare Practitioners & Technical          244\n",
            "Healthcare Support                            242\n",
            "Community & Social Services                   241\n",
            "Legal                                         219\n",
            "Transportation & Material Moving              218\n",
            "Architecture & Engineering                    175\n",
            "Personal Care & Service                       175\n",
            "Protective Service                            175\n",
            "Life Physical Social Science                  170\n",
            "Construction & Extraction                     154\n",
            "Installation Maintenance & Repair             133\n",
            "Production Occupations                        110\n",
            "Building & Grounds Cleaning & Maintenance      44\n",
            "Farming Fishing & Forestry                     43\n",
            "Name: count, dtype: int64\n",
            "\n",
            "income\n",
            "$25000 - $37499     2013\n",
            "$12500 - $24999     1831\n",
            "$37500 - $49999     1805\n",
            "$100000 or More     1736\n",
            "$50000 - $62499     1659\n",
            "Less than $12500    1042\n",
            "$87500 - $99999      895\n",
            "$75000 - $87499      857\n",
            "$62500 - $74999      846\n",
            "Name: count, dtype: int64\n",
            "\n",
            "car\n",
            "Scooter and motorcycle                      22\n",
            "Mazda5                                      22\n",
            "do not drive                                22\n",
            "crossover                                   21\n",
            "Car that is too old to install Onstar :D    21\n",
            "Name: count, dtype: int64\n",
            "\n",
            "Bar\n",
            "never    5197\n",
            "less1    3482\n",
            "1~3      2473\n",
            "4~8      1076\n",
            "gt8       349\n",
            "Name: count, dtype: int64\n",
            "\n",
            "CoffeeHouse\n",
            "less1    3385\n",
            "1~3      3225\n",
            "never    2962\n",
            "4~8      1784\n",
            "gt8      1111\n",
            "Name: count, dtype: int64\n",
            "\n",
            "CarryAway\n",
            "1~3      4672\n",
            "4~8      4258\n",
            "less1    1856\n",
            "gt8      1594\n",
            "never     153\n",
            "Name: count, dtype: int64\n",
            "\n",
            "RestaurantLessThan20\n",
            "1~3      5376\n",
            "4~8      3580\n",
            "less1    2093\n",
            "gt8      1285\n",
            "never     220\n",
            "Name: count, dtype: int64\n",
            "\n",
            "Restaurant20To50\n",
            "less1    6077\n",
            "1~3      3290\n",
            "never    2136\n",
            "4~8       728\n",
            "gt8       264\n",
            "Name: count, dtype: int64\n",
            "\n",
            "toCoupon_GEQ5min\n",
            "1    12684\n",
            "Name: count, dtype: int64\n",
            "\n",
            "toCoupon_GEQ15min\n",
            "1    7122\n",
            "0    5562\n",
            "Name: count, dtype: int64\n",
            "\n",
            "toCoupon_GEQ25min\n",
            "0    11173\n",
            "1     1511\n",
            "Name: count, dtype: int64\n",
            "\n",
            "direction_same\n",
            "0    9960\n",
            "1    2724\n",
            "Name: count, dtype: int64\n",
            "\n",
            "direction_opp\n",
            "1    9960\n",
            "0    2724\n",
            "Name: count, dtype: int64\n",
            "\n",
            "Y\n",
            "1    7210\n",
            "0    5474\n",
            "Name: count, dtype: int64\n",
            "\n"
          ]
        }
      ],
      "source": [
        "# print all unique values of all columns to get a better idea of the dataset\n",
        "for col in data.columns:\n",
        "    value_counts = data[col].value_counts()\n",
        "    print(value_counts)\n",
        "    print()\n",
        "\n",
        "# data anomalies:\n",
        "# - typo in \"passanger\" column (should be \"passenger\")\n",
        "# - car column has value \"Car that is too old to install Onstar :D\", which is likely an outlier\n",
        "# - ambiguous column name \"Y\""
      ]
    },
    {
      "cell_type": "code",
      "execution_count": 7,
      "metadata": {},
      "outputs": [
        {
          "data": {
            "text/plain": [
              "destination                 0\n",
              "passanger                   0\n",
              "weather                     0\n",
              "temperature                 0\n",
              "time                        0\n",
              "coupon                      0\n",
              "expiration                  0\n",
              "gender                      0\n",
              "age                         0\n",
              "maritalStatus               0\n",
              "has_children                0\n",
              "education                   0\n",
              "occupation                  0\n",
              "income                      0\n",
              "car                     12576\n",
              "Bar                       107\n",
              "CoffeeHouse               217\n",
              "CarryAway                 151\n",
              "RestaurantLessThan20      130\n",
              "Restaurant20To50          189\n",
              "toCoupon_GEQ5min            0\n",
              "toCoupon_GEQ15min           0\n",
              "toCoupon_GEQ25min           0\n",
              "direction_same              0\n",
              "direction_opp               0\n",
              "Y                           0\n",
              "dtype: int64"
            ]
          },
          "execution_count": 7,
          "metadata": {},
          "output_type": "execute_result"
        }
      ],
      "source": [
        "# check data for nulls/NaNs\n",
        "data.isnull().sum()\n",
        "\n",
        "# NaNs: car, Bar, CoffeeHouse, CarryAway, RestaurantLessThan20, Restaurant20To50"
      ]
    },
    {
      "cell_type": "markdown",
      "metadata": {
        "id": "bSdVSpYB_qRH"
      },
      "source": [
        "3. Decide what to do about your missing data -- drop, replace, other..."
      ]
    },
    {
      "cell_type": "code",
      "execution_count": 8,
      "metadata": {
        "id": "tyvoAC5F_qRI"
      },
      "outputs": [],
      "source": [
        "# first, let's fix the typo and change Y to be more descriptive:\n",
        "data.rename(columns={'passanger' : 'passenger', 'Y' : 'coupon_accepted'}, inplace=True)"
      ]
    },
    {
      "cell_type": "code",
      "execution_count": 9,
      "metadata": {},
      "outputs": [],
      "source": [
        "# now to fix the NaNs:\n",
        "# we can see that the car column has so many NaNs that it would be more worth it to drop the whole column,\n",
        "# as it doesn't provide enough data to draw any meaningful conclusions from. (12576 out of 12684 values are NaN!)\n",
        "data.drop('car', axis=1, inplace=True)\n",
        "\n",
        "# as for the Bar, CoffeeHouse, CarryAway, RestaurantLessThan20, and Restaurant20To50 columns,\n",
        "# let's replace the NaNs with the value 'never', which also exists in each of those columns.\n",
        "data.fillna('never', inplace=True)"
      ]
    },
    {
      "cell_type": "markdown",
      "metadata": {
        "id": "YE6oJbXd_qRI"
      },
      "source": [
        "4. What proportion of the total observations chose to accept the coupon?\n",
        "\n"
      ]
    },
    {
      "cell_type": "code",
      "execution_count": 10,
      "metadata": {
        "id": "86GGqBTv_qRI"
      },
      "outputs": [
        {
          "name": "stdout",
          "output_type": "stream",
          "text": [
            "The proportion of drivers who accepted the coupon is: 56.84%\n"
          ]
        }
      ],
      "source": [
        "total_drivers_accepted = len(data.query('coupon_accepted == 1'))\n",
        "proportion_drivers_accepted = total_drivers_accepted / len(data)\n",
        "\n",
        "print('The proportion of drivers who accepted the coupon is:', '{0:.2%}'.format(proportion_drivers_accepted))"
      ]
    },
    {
      "cell_type": "markdown",
      "metadata": {
        "id": "vflz0DoE_qRI"
      },
      "source": [
        "5. Use a bar plot to visualize the `coupon` column."
      ]
    },
    {
      "cell_type": "code",
      "execution_count": 11,
      "metadata": {
        "id": "dHFh3E45_qRI"
      },
      "outputs": [
        {
          "data": {
            "text/plain": [
              "([0, 1, 2, 3, 4],\n",
              " [Text(0, 0, 'Restaurant(20-50)'),\n",
              "  Text(1, 0, 'Bar'),\n",
              "  Text(2, 0, 'Carry out & Take away'),\n",
              "  Text(3, 0, 'Restaurant(<20)'),\n",
              "  Text(4, 0, 'Coffee House')])"
            ]
          },
          "execution_count": 11,
          "metadata": {},
          "output_type": "execute_result"
        },
        {
          "data": {
            "image/png": "[encoded data removed]",
            "text/plain": [
              "<Figure size 640x480 with 1 Axes>"
            ]
          },
          "metadata": {},
          "output_type": "display_data"
        }
      ],
      "source": [
        "# first, count how many of each coupon there is and put it in a new dataframe\n",
        "coupon_counts = data['coupon'].value_counts().sort_values().reset_index()\n",
        "\n",
        "# plot the coupon types vs their counts with seaborn\n",
        "coupon_barplot = sns.barplot(data=coupon_counts, x='coupon', y='count', hue='coupon', legend=False, palette='Set3')\n",
        "coupon_barplot.set_title('Coupon Types by Their Counts')\n",
        "coupon_barplot.set_xlabel('Coupon Type')\n",
        "coupon_barplot.set_ylabel('Count')\n",
        "plt.xticks(rotation=45)"
      ]
    },
    {
      "cell_type": "markdown",
      "metadata": {
        "id": "Qw4lCyx2_qRI"
      },
      "source": [
        "6. Use a histogram to visualize the temperature column."
      ]
    },
    {
      "cell_type": "code",
      "execution_count": 12,
      "metadata": {
        "id": "Yg9Anv71_qRI"
      },
      "outputs": [
        {
          "name": "stdout",
          "output_type": "stream",
          "text": [
            "temperature\n",
            "80    6528\n",
            "55    3840\n",
            "30    2316\n",
            "Name: count, dtype: int64\n"
          ]
        },
        {
          "data": {
            "text/plain": [
              "Text(0.5, 0, 'Temperature')"
            ]
          },
          "execution_count": 12,
          "metadata": {},
          "output_type": "execute_result"
        },
        {
          "data": {
            "image/png": "[encoded data removed]",
            "text/plain": [
              "<Figure size 640x480 with 1 Axes>"
            ]
          },
          "metadata": {},
          "output_type": "display_data"
        }
      ],
      "source": [
        "# plotting the histogram of temperature first\n",
        "print(data['temperature'].value_counts())\n",
        "temperature_histogram = sns.histplot(data=data, x='temperature')\n",
        "temperature_histogram.set_title('Distribution of Temperature When Coupons Were Issued')\n",
        "temperature_histogram.set_xlabel('Temperature')"
      ]
    },
    {
      "cell_type": "code",
      "execution_count": 13,
      "metadata": {
        "id": "zLtOaJQk_qRI"
      },
      "outputs": [
        {
          "data": {
            "text/plain": [
              "<matplotlib.legend.Legend at 0x15ad5acc0>"
            ]
          },
          "execution_count": 13,
          "metadata": {},
          "output_type": "execute_result"
        },
        {
          "data": {
            "image/png": "[encoded data removed]",
            "text/plain": [
              "<Figure size 640x480 with 1 Axes>"
            ]
          },
          "metadata": {},
          "output_type": "display_data"
        }
      ],
      "source": [
        "# afterwards, adding hue to a secondary graph to show how many people accepted or didn't accept at a given temperature\n",
        "temperature_histogram_by_acceptance = sns.histplot(data=data, x='temperature', hue='coupon_accepted', hue_order=[1, 0], multiple='dodge', palette='Set1')\n",
        "temperature_histogram_by_acceptance.set_title('Distribution of Temperature When Coupons Were Issued')\n",
        "temperature_histogram_by_acceptance.set_xlabel('Temperature')\n",
        "\n",
        "plt.legend(title='Coupon Accepted', labels=['Not Accepted', 'Accepted'])"
      ]
    },
    {
      "cell_type": "markdown",
      "metadata": {
        "id": "FupfgeJk_qRJ"
      },
      "source": [
        "**Investigating the Bar Coupons**\n",
        "\n",
        "Now, we will lead you through an exploration of just the bar related coupons.  \n",
        "\n",
        "1. Create a new `DataFrame` that contains just the bar coupons.\n"
      ]
    },
    {
      "cell_type": "code",
      "execution_count": 14,
      "metadata": {
        "id": "tMBlWuGq_qRJ"
      },
      "outputs": [
        {
          "data": {
            "text/html": [
              "<div>\n",
              "<style scoped>\n",
              "    .dataframe tbody tr th:only-of-type {\n",
              "        vertical-align: middle;\n",
              "    }\n",
              "\n",
              "    .dataframe tbody tr th {\n",
              "        vertical-align: top;\n",
              "    }\n",
              "\n",
              "    .dataframe thead th {\n",
              "        text-align: right;\n",
              "    }\n",
              "</style>\n",
              "<table border=\"1\" class=\"dataframe\">\n",
              "  <thead>\n",
              "    <tr style=\"text-align: right;\">\n",
              "      <th></th>\n",
              "      <th>destination</th>\n",
              "      <th>passenger</th>\n",
              "      <th>weather</th>\n",
              "      <th>temperature</th>\n",
              "      <th>time</th>\n",
              "      <th>coupon</th>\n",
              "      <th>expiration</th>\n",
              "      <th>gender</th>\n",
              "      <th>age</th>\n",
              "      <th>maritalStatus</th>\n",
              "      <th>has_children</th>\n",
              "      <th>education</th>\n",
              "      <th>occupation</th>\n",
              "      <th>income</th>\n",
              "      <th>Bar</th>\n",
              "      <th>CoffeeHouse</th>\n",
              "      <th>CarryAway</th>\n",
              "      <th>RestaurantLessThan20</th>\n",
              "      <th>Restaurant20To50</th>\n",
              "      <th>toCoupon_GEQ5min</th>\n",
              "      <th>toCoupon_GEQ15min</th>\n",
              "      <th>toCoupon_GEQ25min</th>\n",
              "      <th>direction_same</th>\n",
              "      <th>direction_opp</th>\n",
              "      <th>coupon_accepted</th>\n",
              "    </tr>\n",
              "  </thead>\n",
              "  <tbody>\n",
              "    <tr>\n",
              "      <th>9</th>\n",
              "      <td>No Urgent Place</td>\n",
              "      <td>Kid(s)</td>\n",
              "      <td>Sunny</td>\n",
              "      <td>80</td>\n",
              "      <td>10AM</td>\n",
              "      <td>Bar</td>\n",
              "      <td>1d</td>\n",
              "      <td>Female</td>\n",
              "      <td>21</td>\n",
              "      <td>Unmarried partner</td>\n",
              "      <td>1</td>\n",
              "      <td>Some college - no degree</td>\n",
              "      <td>Unemployed</td>\n",
              "      <td>$37500 - $49999</td>\n",
              "      <td>never</td>\n",
              "      <td>never</td>\n",
              "      <td>never</td>\n",
              "      <td>4~8</td>\n",
              "      <td>1~3</td>\n",
              "      <td>1</td>\n",
              "      <td>1</td>\n",
              "      <td>0</td>\n",
              "      <td>0</td>\n",
              "      <td>1</td>\n",
              "      <td>0</td>\n",
              "    </tr>\n",
              "    <tr>\n",
              "      <th>13</th>\n",
              "      <td>Home</td>\n",
              "      <td>Alone</td>\n",
              "      <td>Sunny</td>\n",
              "      <td>55</td>\n",
              "      <td>6PM</td>\n",
              "      <td>Bar</td>\n",
              "      <td>1d</td>\n",
              "      <td>Female</td>\n",
              "      <td>21</td>\n",
              "      <td>Unmarried partner</td>\n",
              "      <td>1</td>\n",
              "      <td>Some college - no degree</td>\n",
              "      <td>Unemployed</td>\n",
              "      <td>$37500 - $49999</td>\n",
              "      <td>never</td>\n",
              "      <td>never</td>\n",
              "      <td>never</td>\n",
              "      <td>4~8</td>\n",
              "      <td>1~3</td>\n",
              "      <td>1</td>\n",
              "      <td>0</td>\n",
              "      <td>0</td>\n",
              "      <td>1</td>\n",
              "      <td>0</td>\n",
              "      <td>1</td>\n",
              "    </tr>\n",
              "    <tr>\n",
              "      <th>17</th>\n",
              "      <td>Work</td>\n",
              "      <td>Alone</td>\n",
              "      <td>Sunny</td>\n",
              "      <td>55</td>\n",
              "      <td>7AM</td>\n",
              "      <td>Bar</td>\n",
              "      <td>1d</td>\n",
              "      <td>Female</td>\n",
              "      <td>21</td>\n",
              "      <td>Unmarried partner</td>\n",
              "      <td>1</td>\n",
              "      <td>Some college - no degree</td>\n",
              "      <td>Unemployed</td>\n",
              "      <td>$37500 - $49999</td>\n",
              "      <td>never</td>\n",
              "      <td>never</td>\n",
              "      <td>never</td>\n",
              "      <td>4~8</td>\n",
              "      <td>1~3</td>\n",
              "      <td>1</td>\n",
              "      <td>1</td>\n",
              "      <td>1</td>\n",
              "      <td>0</td>\n",
              "      <td>1</td>\n",
              "      <td>0</td>\n",
              "    </tr>\n",
              "    <tr>\n",
              "      <th>24</th>\n",
              "      <td>No Urgent Place</td>\n",
              "      <td>Friend(s)</td>\n",
              "      <td>Sunny</td>\n",
              "      <td>80</td>\n",
              "      <td>10AM</td>\n",
              "      <td>Bar</td>\n",
              "      <td>1d</td>\n",
              "      <td>Male</td>\n",
              "      <td>21</td>\n",
              "      <td>Single</td>\n",
              "      <td>0</td>\n",
              "      <td>Bachelors degree</td>\n",
              "      <td>Architecture &amp; Engineering</td>\n",
              "      <td>$62500 - $74999</td>\n",
              "      <td>never</td>\n",
              "      <td>less1</td>\n",
              "      <td>4~8</td>\n",
              "      <td>4~8</td>\n",
              "      <td>less1</td>\n",
              "      <td>1</td>\n",
              "      <td>0</td>\n",
              "      <td>0</td>\n",
              "      <td>0</td>\n",
              "      <td>1</td>\n",
              "      <td>1</td>\n",
              "    </tr>\n",
              "    <tr>\n",
              "      <th>35</th>\n",
              "      <td>Home</td>\n",
              "      <td>Alone</td>\n",
              "      <td>Sunny</td>\n",
              "      <td>55</td>\n",
              "      <td>6PM</td>\n",
              "      <td>Bar</td>\n",
              "      <td>1d</td>\n",
              "      <td>Male</td>\n",
              "      <td>21</td>\n",
              "      <td>Single</td>\n",
              "      <td>0</td>\n",
              "      <td>Bachelors degree</td>\n",
              "      <td>Architecture &amp; Engineering</td>\n",
              "      <td>$62500 - $74999</td>\n",
              "      <td>never</td>\n",
              "      <td>less1</td>\n",
              "      <td>4~8</td>\n",
              "      <td>4~8</td>\n",
              "      <td>less1</td>\n",
              "      <td>1</td>\n",
              "      <td>0</td>\n",
              "      <td>0</td>\n",
              "      <td>1</td>\n",
              "      <td>0</td>\n",
              "      <td>1</td>\n",
              "    </tr>\n",
              "  </tbody>\n",
              "</table>\n",
              "</div>"
            ],
            "text/plain": [
              "        destination  passenger weather  temperature  time coupon expiration  \\\n",
              "9   No Urgent Place     Kid(s)   Sunny           80  10AM    Bar         1d   \n",
              "13             Home      Alone   Sunny           55   6PM    Bar         1d   \n",
              "17             Work      Alone   Sunny           55   7AM    Bar         1d   \n",
              "24  No Urgent Place  Friend(s)   Sunny           80  10AM    Bar         1d   \n",
              "35             Home      Alone   Sunny           55   6PM    Bar         1d   \n",
              "\n",
              "    gender age      maritalStatus  has_children                 education  \\\n",
              "9   Female  21  Unmarried partner             1  Some college - no degree   \n",
              "13  Female  21  Unmarried partner             1  Some college - no degree   \n",
              "17  Female  21  Unmarried partner             1  Some college - no degree   \n",
              "24    Male  21             Single             0          Bachelors degree   \n",
              "35    Male  21             Single             0          Bachelors degree   \n",
              "\n",
              "                    occupation           income    Bar CoffeeHouse CarryAway  \\\n",
              "9                   Unemployed  $37500 - $49999  never       never     never   \n",
              "13                  Unemployed  $37500 - $49999  never       never     never   \n",
              "17                  Unemployed  $37500 - $49999  never       never     never   \n",
              "24  Architecture & Engineering  $62500 - $74999  never       less1       4~8   \n",
              "35  Architecture & Engineering  $62500 - $74999  never       less1       4~8   \n",
              "\n",
              "   RestaurantLessThan20 Restaurant20To50  toCoupon_GEQ5min  toCoupon_GEQ15min  \\\n",
              "9                   4~8              1~3                 1                  1   \n",
              "13                  4~8              1~3                 1                  0   \n",
              "17                  4~8              1~3                 1                  1   \n",
              "24                  4~8            less1                 1                  0   \n",
              "35                  4~8            less1                 1                  0   \n",
              "\n",
              "    toCoupon_GEQ25min  direction_same  direction_opp  coupon_accepted  \n",
              "9                   0               0              1                0  \n",
              "13                  0               1              0                1  \n",
              "17                  1               0              1                0  \n",
              "24                  0               0              1                1  \n",
              "35                  0               1              0                1  "
            ]
          },
          "execution_count": 14,
          "metadata": {},
          "output_type": "execute_result"
        }
      ],
      "source": [
        "bar_data = data.query('coupon == \"Bar\"')\n",
        "\n",
        "bar_data.head()"
      ]
    },
    {
      "cell_type": "markdown",
      "metadata": {
        "id": "8ue6uCqf_qRJ"
      },
      "source": [
        "2. What proportion of bar coupons were accepted?\n"
      ]
    },
    {
      "cell_type": "code",
      "execution_count": 15,
      "metadata": {
        "id": "hSdte8Mi_qRK"
      },
      "outputs": [
        {
          "name": "stdout",
          "output_type": "stream",
          "text": [
            "The proportion of bar coupons which were accepted is: 41.00%\n"
          ]
        }
      ],
      "source": [
        "# total bar coupons accepted / total bar coupons issued\n",
        "total_bar_coupons_accepted = len(bar_data.query('coupon_accepted == 1'))\n",
        "proportion_bar_coupons_accepted = total_bar_coupons_accepted / len(bar_data)\n",
        "\n",
        "print('The proportion of bar coupons which were accepted is:', '{0:.2%}'.format(proportion_bar_coupons_accepted))"
      ]
    },
    {
      "cell_type": "markdown",
      "metadata": {
        "id": "85nA_iEi_qRK"
      },
      "source": [
        "3. Compare the acceptance rate between those who went to a bar 3 or fewer times a month to those who went more.\n"
      ]
    },
    {
      "cell_type": "code",
      "execution_count": 16,
      "metadata": {
        "id": "LBOrN-XM_qRK"
      },
      "outputs": [
        {
          "name": "stdout",
          "output_type": "stream",
          "text": [
            "The proportion of bar coupons which were accepted by those who visit bars 3 or fewer times per month is: 37.07%\n",
            "The proportion of bar coupons which were accepted by those who visit bars more than 3 times per month is: 76.88%\n",
            "\n",
            "Those who go to a bar more than 3 times per month are 39.81% more likely to accept a bar coupon than those who go less often\n"
          ]
        }
      ],
      "source": [
        "# acceptance rate of those who went to a bar ≤3 times a month\n",
        "# includes Bar values: 'never', 'less1', '1~3'\n",
        "bar_visits_le_3 = ['never', 'less1', '1~3']\n",
        "bar_data_le3 = bar_data.query('Bar in @bar_visits_le_3')\n",
        "bar_data_le3_accepted = bar_data_le3.query('coupon_accepted == 1')\n",
        "proportion_bar_coupons_accepted_le3 = len(bar_data_le3_accepted) / len(bar_data_le3)\n",
        "\n",
        "print(\n",
        "    'The proportion of bar coupons which were accepted by those who visit bars 3 or fewer times per month is:',\n",
        "    '{0:.2%}'.format(proportion_bar_coupons_accepted_le3)\n",
        ")\n",
        "\n",
        "# acceptance rate of those who went to a bar >3 times a month\n",
        "# includes Bar values: '4~8', 'gt8'\n",
        "bar_visits_gt_3 = ['4~8', 'gt8']\n",
        "bar_data_gt3 = bar_data.query('Bar in @bar_visits_gt_3')\n",
        "bar_data_gt3_accepted = bar_data_gt3.query('coupon_accepted == 1')\n",
        "proportion_bar_coupons_accepted_gt3 = len(bar_data_gt3_accepted) / len(bar_data_gt3)\n",
        "\n",
        "print(\n",
        "    'The proportion of bar coupons which were accepted by those who visit bars more than 3 times per month is:',\n",
        "    '{0:.2%}'.format(proportion_bar_coupons_accepted_gt3)\n",
        ")\n",
        "\n",
        "# We have 37.07% acceptance vs 76.88% acceptance\n",
        "proportional_difference_between_acceptance_rates = abs(proportion_bar_coupons_accepted_gt3 - proportion_bar_coupons_accepted_le3)\n",
        "\n",
        "print()\n",
        "print(f'Those who go to a bar more than 3 times per month are \\\n",
        "{'{0:.2%}'.format(proportional_difference_between_acceptance_rates)} more likely to accept a bar coupon than those who go less often')"
      ]
    },
    {
      "cell_type": "markdown",
      "metadata": {
        "id": "RBgcQwH4_qRK"
      },
      "source": [
        "4. Compare the acceptance rate between drivers who go to a bar more than once a month and are over the age of 25 to the all others.  Is there a difference?\n"
      ]
    },
    {
      "cell_type": "code",
      "execution_count": 17,
      "metadata": {
        "id": "bf28bbeX_qRK"
      },
      "outputs": [
        {
          "name": "stdout",
          "output_type": "stream",
          "text": [
            "The proportion of bar coupons which were accepted by those over age 25 who visit bars more than once a month is: 69.52%\n",
            "The proportion of bar coupons which were accepted by all the others is: 39.33%\n",
            "\n",
            "Those over age 25 who visit bars more than once a month are 30.19% more likely to accept a bar coupon than others\n"
          ]
        }
      ],
      "source": [
        "# acceptance rate of those who went to a bar >1 time a month and are over age 25\n",
        "# includes Bar values: '1~3', '4~8', 'gt8'\n",
        "# includes age values: '26', '31', '36', '41', '46', '50plus'\n",
        "bar_visits_gt_1 = ['1~3', '4~8', 'gt8']\n",
        "age_gt_25 = ['26', '31', '36', '41', '46', '50plus']\n",
        "bar_data_visit_gt1_age_gt25 = bar_data.query('Bar in @bar_visits_gt_1 and age in @age_gt_25')\n",
        "bar_data_visit_gt1_age_gt25_accepted = bar_data_visit_gt1_age_gt25.query('coupon_accepted == 1')\n",
        "proportion_bar_coupons_accepted_visit_gt1_age_gt25 = len(bar_data_visit_gt1_age_gt25_accepted) / len(bar_data_visit_gt1_age_gt25)\n",
        "\n",
        "print(\n",
        "    'The proportion of bar coupons which were accepted by those over age 25 who visit bars more than once a month is:',\n",
        "    '{0:.2%}'.format(proportion_bar_coupons_accepted_visit_gt1_age_gt25)\n",
        ")\n",
        "\n",
        "# acceptance rate of all the others\n",
        "# includes Bar values: 'never', 'less1'\n",
        "# includes age values: 'below21', '21'\n",
        "bar_visits_le_1 = ['never', 'less1']\n",
        "age_le_25 = ['below21', '21']\n",
        "bar_data_visit_le1_age_le25 = bar_data.query('Bar in @bar_visits_le_1 and age in @age_le_25')\n",
        "bar_data_visit_le1_age_le25_accepted = bar_data_visit_le1_age_le25.query('coupon_accepted == 1')\n",
        "proportion_bar_coupons_accepted_visit_le1_age_le25 = len(bar_data_visit_le1_age_le25_accepted) / len(bar_data_visit_le1_age_le25)\n",
        "\n",
        "print(\n",
        "    'The proportion of bar coupons which were accepted by all the others is:',\n",
        "    '{0:.2%}'.format(proportion_bar_coupons_accepted_visit_le1_age_le25)\n",
        ")\n",
        "\n",
        "# We have 69.52% acceptance vs 39.33% acceptance\n",
        "proportional_difference_between_acceptance_rates_2 = abs(\n",
        "    proportion_bar_coupons_accepted_visit_le1_age_le25 - proportion_bar_coupons_accepted_visit_gt1_age_gt25\n",
        ")\n",
        "\n",
        "print()\n",
        "print(f'Those over age 25 who visit bars more than once a month are \\\n",
        "{'{0:.2%}'.format(proportional_difference_between_acceptance_rates_2)} more likely to accept a bar coupon than others')"
      ]
    },
    {
      "cell_type": "markdown",
      "metadata": {
        "id": "S4RKT4PJ_qRK"
      },
      "source": [
        "5. Use the same process to compare the acceptance rate between drivers who go to bars more than once a month and had passengers that were not a kid and had occupations other than farming, fishing, or forestry.\n"
      ]
    },
    {
      "cell_type": "code",
      "execution_count": 18,
      "metadata": {
        "id": "sENaI2Tg_qRK"
      },
      "outputs": [
        {
          "name": "stdout",
          "output_type": "stream",
          "text": [
            "The proportion of bar coupons which were accepted by drivers who visit bars more than once a month, \n",
            "with non-child passengers, and occupations outside farming/fishing/forestry is: 71.79%\n",
            "\n",
            "The proportion of bar coupons which were accepted by all the others is: 50.00%\n",
            "\n",
            "Those who visit bars more than once a month with adult passengers and who have occupations outside \n",
            "Farming Fishing & Forestry are 30.19% more likely to accept a bar coupon than others\n"
          ]
        }
      ],
      "source": [
        "# acceptance rate of those who went to a bar >1 time a month, non-kid passengers, occupation outside farming/fishing/forestry\n",
        "# includes Bar values: '1~3', '4~8', 'gt8'\n",
        "# includes passenger values: 'Friend(s)' 'Partner'\n",
        "# includes occupation not equal to 'Farming Fishing & Forestry'\n",
        "non_kid_passenger = ['Friend(s)', 'Partner']\n",
        "bar_data_adult_passenger = bar_data.query(\n",
        "    'Bar in @bar_visits_gt_1 and passenger in @non_kid_passenger and occupation != \"Farming Fishing & Forestry\"'\n",
        ")\n",
        "bar_data_adult_passenger_accepted = bar_data_adult_passenger.query('coupon_accepted == 1')\n",
        "proportion_bar_coupons_accepted_adult_passenger = len(bar_data_adult_passenger_accepted) / len(bar_data_adult_passenger)\n",
        "\n",
        "print(\n",
        "    'The proportion of bar coupons which were accepted by drivers who visit bars more than once a month,',\n",
        "    '\\nwith non-child passengers, and occupations outside farming/fishing/forestry is:',\n",
        "    '{0:.2%}'.format(proportion_bar_coupons_accepted_adult_passenger)\n",
        ")\n",
        "\n",
        "# acceptance rate of all the others\n",
        "# includes Bar values: 'never', 'less1'\n",
        "# includes passenger values: 'Alone', 'Kid(s)'\n",
        "# includes occupation equal to 'Farming Fishing & Forestry'\n",
        "kid_passenger_or_alone = ['Alone', 'Kid(s)']\n",
        "bar_data_child_passenger = bar_data.query(\n",
        "    'Bar in @bar_visits_le_1 and passenger in @kid_passenger_or_alone and occupation == \"Farming Fishing & Forestry\"'\n",
        ")\n",
        "bar_data_child_passenger_accepted = bar_data_child_passenger.query('coupon_accepted == 1')\n",
        "proportion_bar_coupons_accepted_child_passenger = len(bar_data_child_passenger_accepted) / len(bar_data_child_passenger)\n",
        "\n",
        "print()\n",
        "print(\n",
        "    'The proportion of bar coupons which were accepted by all the others is:',\n",
        "    '{0:.2%}'.format(proportion_bar_coupons_accepted_child_passenger)\n",
        ")\n",
        "\n",
        "# We have 71.79% acceptance vs 50.00% acceptance\n",
        "proportional_difference_between_acceptance_rates_3 = abs(\n",
        "    proportion_bar_coupons_accepted_child_passenger - proportion_bar_coupons_accepted_adult_passenger\n",
        ")\n",
        "\n",
        "print()\n",
        "print(f'Those who visit bars more than once a month with adult passengers and who have occupations outside \\nFarming Fishing & Forestry are \\\n",
        "{'{0:.2%}'.format(proportional_difference_between_acceptance_rates_2)} more likely to accept a bar coupon than others')"
      ]
    },
    {
      "cell_type": "markdown",
      "metadata": {
        "id": "n2LIUTil_qRK"
      },
      "source": [
        "6. Compare the acceptance rates between those drivers who:\n",
        "\n",
        "- go to bars more than once a month, had passengers that were not a kid, and were not widowed *OR*\n",
        "- go to bars more than once a month and are under the age of 30 *OR*\n",
        "- go to cheap restaurants more than 4 times a month and income is less than 50K.\n",
        "\n"
      ]
    },
    {
      "cell_type": "code",
      "execution_count": 19,
      "metadata": {
        "id": "aK_wEzx7_qRK"
      },
      "outputs": [
        {
          "name": "stdout",
          "output_type": "stream",
          "text": [
            "The proportion of bar coupons which were accepted by drivers who visit bars more than once a month, \n",
            "with non-child passengers, and who were not widowed is: 71.79% \n",
            "\n",
            "The proportion of bar coupons which were accepted by drivers who visit bars more than once a month, \n",
            "and are under age 30 is: 72.17% \n",
            "\n",
            "The proportion of bar coupons which were accepted by drivers who visit cheap restaurants more than 4 times a month, \n",
            "and make less than $50,000 per year is: 45.35%\n"
          ]
        }
      ],
      "source": [
        "# go to bar > once per month, non-child passengers, not widowed\n",
        "# maritalStatus equal to 'Widowed'\n",
        "bar_data_group1 = bar_data.query('Bar in @bar_visits_gt_1 and passenger in @non_kid_passenger and maritalStatus != \"widowed\"')\n",
        "bar_data_group1_accepted = bar_data_group1.query('coupon_accepted == 1')\n",
        "proportion_bar_coupons_accepted_group1 = len(bar_data_group1_accepted) / len(bar_data_group1)\n",
        "\n",
        "print(\n",
        "    'The proportion of bar coupons which were accepted by drivers who visit bars more than once a month,',\n",
        "    '\\nwith non-child passengers, and who were not widowed is:',\n",
        "    '{0:.2%}'.format(proportion_bar_coupons_accepted_group1),\n",
        "    '\\n'\n",
        ")\n",
        "\n",
        "# go to bar > once per month, under age 30\n",
        "# includes age values: 'below21', '21', '26'\n",
        "age_lt_30 = ['below21', '21', '26']\n",
        "bar_data_group2 = bar_data.query('Bar in @bar_visits_gt_1 and age in @age_lt_30')\n",
        "bar_data_group2_accepted = bar_data_group2.query('coupon_accepted == 1')\n",
        "proportion_bar_coupons_accepted_group2 = len(bar_data_group2_accepted) / len(bar_data_group2)\n",
        "\n",
        "print(\n",
        "    'The proportion of bar coupons which were accepted by drivers who visit bars more than once a month,',\n",
        "    '\\nand are under age 30 is:',\n",
        "    '{0:.2%}'.format(proportion_bar_coupons_accepted_group2),\n",
        "    '\\n'\n",
        ")\n",
        "\n",
        "# go to cheap restaurants > 4 times per month, income < $50,000\n",
        "# includes RestaurantLessThan20: '4~8', 'gt8'\n",
        "# includes income: 'Less than $12500', '$12500 - $24999', '$25000 - $37499', '$37500 - $49999'\n",
        "cheap_restaurants_gt4 = ['4~8', 'gt8']\n",
        "income_lt_50k = ['Less than $12500', '$12500 - $24999', '$25000 - $37499', '$37500 - $49999']\n",
        "\n",
        "bar_data_group3 = bar_data.query('RestaurantLessThan20 in @cheap_restaurants_gt4 and income in @income_lt_50k')\n",
        "bar_data_group3_accepted = bar_data_group3.query('coupon_accepted == 1')\n",
        "proportion_bar_coupons_accepted_group3 = len(bar_data_group3_accepted) / len(bar_data_group3)\n",
        "\n",
        "print(\n",
        "    'The proportion of bar coupons which were accepted by drivers who visit cheap restaurants more than 4 times a month,',\n",
        "    '\\nand make less than $50,000 per year is:',\n",
        "    '{0:.2%}'.format(proportion_bar_coupons_accepted_group3)\n",
        ")"
      ]
    },
    {
      "cell_type": "markdown",
      "metadata": {
        "id": "v3fL3QkO_qRK"
      },
      "source": [
        "7.  Based on these observations, what do you hypothesize about drivers who accepted the bar coupons?"
      ]
    },
    {
      "cell_type": "markdown",
      "metadata": {
        "id": "Y48naDFh_qRL"
      },
      "source": [
        "It would appear that, regardless of other factors, a driver is more likely to accept a bar coupon if they tend to visit bars more than once a month. This is supported by the fact that all acceptance rates for drivers that meet this condition tend towards 70% or higher.\n",
        "\n",
        "Thus, it is recommended that bar coupons be targeted towards drivers who visit bars at least somewhat frequently, as they will be more likely to accept bar coupons."
      ]
    },
    {
      "cell_type": "markdown",
      "metadata": {
        "id": "r4Hu1zOb_qRL"
      },
      "source": [
        "### Independent Investigation\n",
        "\n",
        "Using the bar coupon example as motivation, you are to explore one of the other coupon groups and try to determine the characteristics of passengers who accept the coupons.  "
      ]
    },
    {
      "cell_type": "markdown",
      "metadata": {},
      "source": [
        "#### Carry Out & Take Away Coupons\n",
        "\n",
        "In this independent investigation, I will filter the data to contain only rows for drivers which were issued \"Carry Out & Take Away\" (a.k.a. 'takeout') coupons. As part of this analysis, I will look at multiple different factors present in the data to determine which demographic is most likely to accept takeout coupons."
      ]
    },
    {
      "cell_type": "code",
      "execution_count": 20,
      "metadata": {
        "id": "0c71cQhu_qRL"
      },
      "outputs": [
        {
          "data": {
            "text/html": [
              "<div>\n",
              "<style scoped>\n",
              "    .dataframe tbody tr th:only-of-type {\n",
              "        vertical-align: middle;\n",
              "    }\n",
              "\n",
              "    .dataframe tbody tr th {\n",
              "        vertical-align: top;\n",
              "    }\n",
              "\n",
              "    .dataframe thead th {\n",
              "        text-align: right;\n",
              "    }\n",
              "</style>\n",
              "<table border=\"1\" class=\"dataframe\">\n",
              "  <thead>\n",
              "    <tr style=\"text-align: right;\">\n",
              "      <th></th>\n",
              "      <th>destination</th>\n",
              "      <th>passenger</th>\n",
              "      <th>weather</th>\n",
              "      <th>temperature</th>\n",
              "      <th>time</th>\n",
              "      <th>coupon</th>\n",
              "      <th>expiration</th>\n",
              "      <th>gender</th>\n",
              "      <th>age</th>\n",
              "      <th>maritalStatus</th>\n",
              "      <th>has_children</th>\n",
              "      <th>education</th>\n",
              "      <th>occupation</th>\n",
              "      <th>income</th>\n",
              "      <th>Bar</th>\n",
              "      <th>CoffeeHouse</th>\n",
              "      <th>CarryAway</th>\n",
              "      <th>RestaurantLessThan20</th>\n",
              "      <th>Restaurant20To50</th>\n",
              "      <th>toCoupon_GEQ5min</th>\n",
              "      <th>toCoupon_GEQ15min</th>\n",
              "      <th>toCoupon_GEQ25min</th>\n",
              "      <th>direction_same</th>\n",
              "      <th>direction_opp</th>\n",
              "      <th>coupon_accepted</th>\n",
              "    </tr>\n",
              "  </thead>\n",
              "  <tbody>\n",
              "    <tr>\n",
              "      <th>2</th>\n",
              "      <td>No Urgent Place</td>\n",
              "      <td>Friend(s)</td>\n",
              "      <td>Sunny</td>\n",
              "      <td>80</td>\n",
              "      <td>10AM</td>\n",
              "      <td>Carry out &amp; Take away</td>\n",
              "      <td>2h</td>\n",
              "      <td>Female</td>\n",
              "      <td>21</td>\n",
              "      <td>Unmarried partner</td>\n",
              "      <td>1</td>\n",
              "      <td>Some college - no degree</td>\n",
              "      <td>Unemployed</td>\n",
              "      <td>$37500 - $49999</td>\n",
              "      <td>never</td>\n",
              "      <td>never</td>\n",
              "      <td>never</td>\n",
              "      <td>4~8</td>\n",
              "      <td>1~3</td>\n",
              "      <td>1</td>\n",
              "      <td>1</td>\n",
              "      <td>0</td>\n",
              "      <td>0</td>\n",
              "      <td>1</td>\n",
              "      <td>1</td>\n",
              "    </tr>\n",
              "    <tr>\n",
              "      <th>6</th>\n",
              "      <td>No Urgent Place</td>\n",
              "      <td>Friend(s)</td>\n",
              "      <td>Sunny</td>\n",
              "      <td>55</td>\n",
              "      <td>2PM</td>\n",
              "      <td>Carry out &amp; Take away</td>\n",
              "      <td>1d</td>\n",
              "      <td>Female</td>\n",
              "      <td>21</td>\n",
              "      <td>Unmarried partner</td>\n",
              "      <td>1</td>\n",
              "      <td>Some college - no degree</td>\n",
              "      <td>Unemployed</td>\n",
              "      <td>$37500 - $49999</td>\n",
              "      <td>never</td>\n",
              "      <td>never</td>\n",
              "      <td>never</td>\n",
              "      <td>4~8</td>\n",
              "      <td>1~3</td>\n",
              "      <td>1</td>\n",
              "      <td>1</td>\n",
              "      <td>0</td>\n",
              "      <td>0</td>\n",
              "      <td>1</td>\n",
              "      <td>1</td>\n",
              "    </tr>\n",
              "    <tr>\n",
              "      <th>8</th>\n",
              "      <td>No Urgent Place</td>\n",
              "      <td>Kid(s)</td>\n",
              "      <td>Sunny</td>\n",
              "      <td>80</td>\n",
              "      <td>10AM</td>\n",
              "      <td>Carry out &amp; Take away</td>\n",
              "      <td>2h</td>\n",
              "      <td>Female</td>\n",
              "      <td>21</td>\n",
              "      <td>Unmarried partner</td>\n",
              "      <td>1</td>\n",
              "      <td>Some college - no degree</td>\n",
              "      <td>Unemployed</td>\n",
              "      <td>$37500 - $49999</td>\n",
              "      <td>never</td>\n",
              "      <td>never</td>\n",
              "      <td>never</td>\n",
              "      <td>4~8</td>\n",
              "      <td>1~3</td>\n",
              "      <td>1</td>\n",
              "      <td>1</td>\n",
              "      <td>0</td>\n",
              "      <td>0</td>\n",
              "      <td>1</td>\n",
              "      <td>1</td>\n",
              "    </tr>\n",
              "    <tr>\n",
              "      <th>19</th>\n",
              "      <td>Work</td>\n",
              "      <td>Alone</td>\n",
              "      <td>Sunny</td>\n",
              "      <td>80</td>\n",
              "      <td>7AM</td>\n",
              "      <td>Carry out &amp; Take away</td>\n",
              "      <td>2h</td>\n",
              "      <td>Female</td>\n",
              "      <td>21</td>\n",
              "      <td>Unmarried partner</td>\n",
              "      <td>1</td>\n",
              "      <td>Some college - no degree</td>\n",
              "      <td>Unemployed</td>\n",
              "      <td>$37500 - $49999</td>\n",
              "      <td>never</td>\n",
              "      <td>never</td>\n",
              "      <td>never</td>\n",
              "      <td>4~8</td>\n",
              "      <td>1~3</td>\n",
              "      <td>1</td>\n",
              "      <td>0</td>\n",
              "      <td>0</td>\n",
              "      <td>1</td>\n",
              "      <td>0</td>\n",
              "      <td>1</td>\n",
              "    </tr>\n",
              "    <tr>\n",
              "      <th>25</th>\n",
              "      <td>No Urgent Place</td>\n",
              "      <td>Friend(s)</td>\n",
              "      <td>Sunny</td>\n",
              "      <td>80</td>\n",
              "      <td>10AM</td>\n",
              "      <td>Carry out &amp; Take away</td>\n",
              "      <td>2h</td>\n",
              "      <td>Male</td>\n",
              "      <td>21</td>\n",
              "      <td>Single</td>\n",
              "      <td>0</td>\n",
              "      <td>Bachelors degree</td>\n",
              "      <td>Architecture &amp; Engineering</td>\n",
              "      <td>$62500 - $74999</td>\n",
              "      <td>never</td>\n",
              "      <td>less1</td>\n",
              "      <td>4~8</td>\n",
              "      <td>4~8</td>\n",
              "      <td>less1</td>\n",
              "      <td>1</td>\n",
              "      <td>1</td>\n",
              "      <td>0</td>\n",
              "      <td>0</td>\n",
              "      <td>1</td>\n",
              "      <td>0</td>\n",
              "    </tr>\n",
              "  </tbody>\n",
              "</table>\n",
              "</div>"
            ],
            "text/plain": [
              "        destination  passenger weather  temperature  time  \\\n",
              "2   No Urgent Place  Friend(s)   Sunny           80  10AM   \n",
              "6   No Urgent Place  Friend(s)   Sunny           55   2PM   \n",
              "8   No Urgent Place     Kid(s)   Sunny           80  10AM   \n",
              "19             Work      Alone   Sunny           80   7AM   \n",
              "25  No Urgent Place  Friend(s)   Sunny           80  10AM   \n",
              "\n",
              "                   coupon expiration  gender age      maritalStatus  \\\n",
              "2   Carry out & Take away         2h  Female  21  Unmarried partner   \n",
              "6   Carry out & Take away         1d  Female  21  Unmarried partner   \n",
              "8   Carry out & Take away         2h  Female  21  Unmarried partner   \n",
              "19  Carry out & Take away         2h  Female  21  Unmarried partner   \n",
              "25  Carry out & Take away         2h    Male  21             Single   \n",
              "\n",
              "    has_children                 education                  occupation  \\\n",
              "2              1  Some college - no degree                  Unemployed   \n",
              "6              1  Some college - no degree                  Unemployed   \n",
              "8              1  Some college - no degree                  Unemployed   \n",
              "19             1  Some college - no degree                  Unemployed   \n",
              "25             0          Bachelors degree  Architecture & Engineering   \n",
              "\n",
              "             income    Bar CoffeeHouse CarryAway RestaurantLessThan20  \\\n",
              "2   $37500 - $49999  never       never     never                  4~8   \n",
              "6   $37500 - $49999  never       never     never                  4~8   \n",
              "8   $37500 - $49999  never       never     never                  4~8   \n",
              "19  $37500 - $49999  never       never     never                  4~8   \n",
              "25  $62500 - $74999  never       less1       4~8                  4~8   \n",
              "\n",
              "   Restaurant20To50  toCoupon_GEQ5min  toCoupon_GEQ15min  toCoupon_GEQ25min  \\\n",
              "2               1~3                 1                  1                  0   \n",
              "6               1~3                 1                  1                  0   \n",
              "8               1~3                 1                  1                  0   \n",
              "19              1~3                 1                  0                  0   \n",
              "25            less1                 1                  1                  0   \n",
              "\n",
              "    direction_same  direction_opp  coupon_accepted  \n",
              "2                0              1                1  \n",
              "6                0              1                1  \n",
              "8                0              1                1  \n",
              "19               1              0                1  \n",
              "25               0              1                0  "
            ]
          },
          "execution_count": 20,
          "metadata": {},
          "output_type": "execute_result"
        }
      ],
      "source": [
        "# 1a. Create a subset of the data which contains only takeout coupons\n",
        "takeout_data = data.query('coupon == \"Carry out & Take away\"')\n",
        "\n",
        "takeout_data.head()"
      ]
    },
    {
      "cell_type": "code",
      "execution_count": 21,
      "metadata": {},
      "outputs": [
        {
          "name": "stdout",
          "output_type": "stream",
          "text": [
            "The proportion of takeout coupons which were accepted is: 73.55%\n"
          ]
        }
      ],
      "source": [
        "# 1b. What was the acceptance rate of takeout coupons?\n",
        "\n",
        "takeout_acceptance_rate = len(takeout_data.query('coupon_accepted == 1')) / len(takeout_data)\n",
        "\n",
        "print('The proportion of takeout coupons which were accepted is:', '{0:.2%}'.format(takeout_acceptance_rate))"
      ]
    },
    {
      "cell_type": "code",
      "execution_count": 22,
      "metadata": {
        "id": "QEsBkvIN_qRL"
      },
      "outputs": [],
      "source": [
        "# 1c. Create a generalized function to calculate acceptance rate based on a given query.\n",
        "def takeout_acceptance_rate(query):\n",
        "    queried_data = takeout_data.query(query)\n",
        "    queried_data_accepted = queried_data.query('coupon_accepted == 1')\n",
        "    return len(queried_data_accepted) / len(queried_data)"
      ]
    },
    {
      "cell_type": "code",
      "execution_count": 23,
      "metadata": {
        "id": "fTC2WGE3_qRL"
      },
      "outputs": [
        {
          "name": "stdout",
          "output_type": "stream",
          "text": [
            "The proportion of takeout coupons which were accepted when the driver had no urgent destination is: 76.28%\n",
            "The proportion of takeout coupons which were accepted by drivers on their way to work is: 65.49%\n",
            "The proportion of takeout coupons which were accepted by drivers on their way home is: 78.87%\n",
            "\n",
            "Conclusion: drivers were more likely to accept takeout coupons when going home or when they had no urgent destination in mind\n"
          ]
        }
      ],
      "source": [
        "# 2. Find out the acceptance rate of drivers with No Urgent Place as the destination vs all others\n",
        "takeout_acceptance_no_urgent_place = takeout_acceptance_rate('destination == \"No Urgent Place\"')\n",
        "print(\n",
        "    'The proportion of takeout coupons which were accepted when the driver had no urgent destination is:',\n",
        "    '{0:.2%}'.format(takeout_acceptance_no_urgent_place)\n",
        ")\n",
        "\n",
        "takeout_acceptance_work = takeout_acceptance_rate('destination == \"Work\"')\n",
        "print(\n",
        "    'The proportion of takeout coupons which were accepted by drivers on their way to work is:',\n",
        "    '{0:.2%}'.format(takeout_acceptance_work)\n",
        ")\n",
        "\n",
        "takeout_acceptance_home = takeout_acceptance_rate('destination == \"Home\"')\n",
        "print(\n",
        "    'The proportion of takeout coupons which were accepted by drivers on their way home is:',\n",
        "    '{0:.2%}'.format(takeout_acceptance_home)\n",
        ")\n",
        "\n",
        "print('\\nConclusion: drivers were more likely to accept takeout coupons when going home or when they had no urgent destination in mind')"
      ]
    },
    {
      "cell_type": "code",
      "execution_count": 24,
      "metadata": {},
      "outputs": [
        {
          "data": {
            "text/plain": [
              "([0, 1, 2],\n",
              " [Text(0, 0, 'No Urgent Place'), Text(1, 0, 'Work'), Text(2, 0, 'Home')])"
            ]
          },
          "execution_count": 24,
          "metadata": {},
          "output_type": "execute_result"
        },
        {
          "data": {
            "image/png": "[encoded data removed]",
            "text/plain": [
              "<Figure size 640x480 with 1 Axes>"
            ]
          },
          "metadata": {},
          "output_type": "display_data"
        }
      ],
      "source": [
        "# Making a graph for destination\n",
        "takeout_data_by_destination = {\n",
        "    'Destination': ['No Urgent Place', 'Work', 'Home'],\n",
        "    'Acceptance Rate': [takeout_acceptance_no_urgent_place, takeout_acceptance_work, takeout_acceptance_home]\n",
        "}\n",
        "\n",
        "takeout_destination_dataframe = pd.DataFrame(takeout_data_by_destination)\n",
        "\n",
        "# plot the destinations vs their acceptance rates with seaborn\n",
        "coupon_barplot = sns.barplot(data=takeout_destination_dataframe, x='Destination', y='Acceptance Rate', hue='Destination', legend=False, palette='Set1')\n",
        "coupon_barplot.set_title('Takeout Coupon Acceptance Rate by Destination')\n",
        "coupon_barplot.set_xlabel('Destination')\n",
        "coupon_barplot.set_ylabel('Acceptance Rate')\n",
        "plt.xticks(rotation=45)"
      ]
    },
    {
      "cell_type": "code",
      "execution_count": 25,
      "metadata": {},
      "outputs": [
        {
          "name": "stdout",
          "output_type": "stream",
          "text": [
            "The proportion of takeout coupons which were accepted when the driver had no passengers is: 72.74%\n",
            "The proportion of takeout coupons which were accepted when the driver had at least 1 passenger is: 74.70%\n",
            "The proportion of takeout coupons which were accepted when the driver had a child passenger is: 70.39%\n",
            "The proportion of takeout coupons which were accepted when the driver had a non-child passenger is: 73.76%\n",
            "\n",
            "Conclusion: neither the presence of a passenger nor the type of passenger affects acceptance of takeout coupons\n"
          ]
        }
      ],
      "source": [
        "# 3. Find out the acceptance rate of drivers with no passenger in the car\n",
        "print(\n",
        "    'The proportion of takeout coupons which were accepted when the driver had no passengers is:',\n",
        "    '{0:.2%}'.format(takeout_acceptance_rate('passenger == \"Alone\"'))\n",
        ")\n",
        "\n",
        "# What if the driver had a passenger?\n",
        "print(\n",
        "    'The proportion of takeout coupons which were accepted when the driver had at least 1 passenger is:',\n",
        "    '{0:.2%}'.format(takeout_acceptance_rate('passenger != \"Alone\"'))\n",
        ")\n",
        "\n",
        "# What if the passenger was a child vs adult?\n",
        "print(\n",
        "    'The proportion of takeout coupons which were accepted when the driver had a child passenger is:',\n",
        "    '{0:.2%}'.format(takeout_acceptance_rate('passenger == \"Kid(s)\"'))\n",
        ")\n",
        "print(\n",
        "    'The proportion of takeout coupons which were accepted when the driver had a non-child passenger is:',\n",
        "    '{0:.2%}'.format(takeout_acceptance_rate('passenger != \"Kid(s)\"'))\n",
        ")\n",
        "\n",
        "print('\\nConclusion: neither the presence of a passenger nor the type of passenger affects acceptance of takeout coupons')"
      ]
    },
    {
      "cell_type": "code",
      "execution_count": 26,
      "metadata": {},
      "outputs": [
        {
          "name": "stdout",
          "output_type": "stream",
          "text": [
            "The proportion of takeout coupons which were accepted when the weather was sunny is: 76.29%\n",
            "The proportion of takeout coupons which were accepted when the weather was not sunny is: 65.81%\n",
            "\n",
            "Conclusion: takeout coupons were more likely to be accepted in sunny weather\n",
            "\n",
            "The proportion of takeout coupons which were accepted in the morning is: 67.40%\n",
            "The proportion of takeout coupons which were accepted in the afternoon is: 86.70%\n",
            "The proportion of takeout coupons which were accepted in the evening is: 79.13%\n",
            "\n",
            "The proportion of takeout coupons which were accepted at 7AM is: 65.49%\n",
            "The proportion of takeout coupons which were accepted at 10AM is: 70.21%\n",
            "The proportion of takeout coupons which were accepted at 2PM is: 86.70%\n",
            "The proportion of takeout coupons which were accepted at 6PM is: 82.53%\n",
            "The proportion of takeout coupons which were accepted at 10PM is: 75.92%\n",
            "\n",
            "Conclusion: takeout coupons were more likely to be accepted at common mealtimes such as lunch (2PM) and dinner (6PM)\n"
          ]
        }
      ],
      "source": [
        "# 4. Did the weather or time of day affect the acceptance rate?\n",
        "\n",
        "# determine whether sunny weather led to a higher acceptance rate than others\n",
        "print(\n",
        "    'The proportion of takeout coupons which were accepted when the weather was sunny is:',\n",
        "    '{0:.2%}'.format(takeout_acceptance_rate('weather == \"Sunny\"'))\n",
        ")\n",
        "\n",
        "print(\n",
        "    'The proportion of takeout coupons which were accepted when the weather was not sunny is:',\n",
        "    '{0:.2%}'.format(takeout_acceptance_rate('weather != \"Sunny\"'))\n",
        ")\n",
        "\n",
        "print('\\nConclusion: takeout coupons were more likely to be accepted in sunny weather\\n')\n",
        "\n",
        "\n",
        "# determine whether takeout coupons were more likely to be accepted in the morning, afternoon or evening\n",
        "morning = ['7AM', '10AM']\n",
        "afternoon = ['2PM']\n",
        "evening = ['6PM', '10PM']\n",
        "print(\n",
        "    'The proportion of takeout coupons which were accepted in the morning is:',\n",
        "    '{0:.2%}'.format(takeout_acceptance_rate('time in @morning'))\n",
        ")\n",
        "\n",
        "print(\n",
        "    'The proportion of takeout coupons which were accepted in the afternoon is:',\n",
        "    '{0:.2%}'.format(takeout_acceptance_rate('time in @afternoon'))\n",
        ")\n",
        "\n",
        "print(\n",
        "    'The proportion of takeout coupons which were accepted in the evening is:',\n",
        "    '{0:.2%}'.format(takeout_acceptance_rate('time in @evening'))\n",
        ")\n",
        "print()\n",
        "\n",
        "# What about individual hours of the day?\n",
        "\n",
        "print(\n",
        "    'The proportion of takeout coupons which were accepted at 7AM is:',\n",
        "    '{0:.2%}'.format(takeout_acceptance_rate('time == \"7AM\"'))\n",
        ")\n",
        "\n",
        "print(\n",
        "    'The proportion of takeout coupons which were accepted at 10AM is:',\n",
        "    '{0:.2%}'.format(takeout_acceptance_rate('time == \"10AM\"'))\n",
        ")\n",
        "\n",
        "print(\n",
        "    'The proportion of takeout coupons which were accepted at 2PM is:',\n",
        "    '{0:.2%}'.format(takeout_acceptance_rate('time == \"2PM\"'))\n",
        ")\n",
        "\n",
        "print(\n",
        "    'The proportion of takeout coupons which were accepted at 6PM is:',\n",
        "    '{0:.2%}'.format(takeout_acceptance_rate('time == \"6PM\"'))\n",
        ")\n",
        "\n",
        "print(\n",
        "    'The proportion of takeout coupons which were accepted at 10PM is:',\n",
        "    '{0:.2%}'.format(takeout_acceptance_rate('time == \"10PM\"'))\n",
        ")\n",
        "\n",
        "print(\n",
        "    '\\nConclusion: takeout coupons were more likely to be accepted at common mealtimes',\n",
        "    'such as lunch (2PM) and dinner (6PM)'\n",
        ")"
      ]
    },
    {
      "cell_type": "code",
      "execution_count": 27,
      "metadata": {},
      "outputs": [
        {
          "data": {
            "text/plain": [
              "Text(0, 0.5, 'Acceptance Rate')"
            ]
          },
          "execution_count": 27,
          "metadata": {},
          "output_type": "execute_result"
        },
        {
          "data": {
            "image/png": "[encoded data removed]",
            "text/plain": [
              "<Figure size 640x480 with 1 Axes>"
            ]
          },
          "metadata": {},
          "output_type": "display_data"
        }
      ],
      "source": [
        "# Making a graph for time\n",
        "\n",
        "# first, start with data\n",
        "times = ['7AM', '10AM', '2PM', '6PM', '10PM']\n",
        "takeout_acceptance_by_time = []\n",
        "\n",
        "for time in times:\n",
        "    takeout_acceptance_by_time.append(takeout_acceptance_rate(f'time == \"{time}\"'))\n",
        "\n",
        "takeout_data_by_time = {\n",
        "    'Time': times,\n",
        "    'Acceptance Rate': takeout_acceptance_by_time\n",
        "}\n",
        "\n",
        "takeout_time_dataframe = pd.DataFrame(takeout_data_by_time)\n",
        "\n",
        "# plot the times vs their acceptance rates with seaborn\n",
        "coupon_barplot = sns.barplot(data=takeout_time_dataframe, x='Time', y='Acceptance Rate', hue='Time', legend=False, palette='Set2')\n",
        "coupon_barplot.set_title('Takeout Coupon Acceptance Rate by Time of Coupon Issue')\n",
        "coupon_barplot.set_xlabel('Time Coupon Was Issued')\n",
        "coupon_barplot.set_ylabel('Acceptance Rate')"
      ]
    },
    {
      "cell_type": "code",
      "execution_count": 28,
      "metadata": {
        "id": "RrqUWn7d_qRL"
      },
      "outputs": [],
      "source": [
        "# Let's also make a function that creates all the probabilities for a column at once\n",
        "def list_takeout_acceptance_rates(column):\n",
        "    for value in takeout_data[column].unique():\n",
        "        if isinstance(value, (int, float, np.int64, np.float64)):\n",
        "            query = f'{column} == {value}'\n",
        "        else:\n",
        "            query = f'{column} == \"{value}\"'\n",
        "        \n",
        "        print(\n",
        "            f'The takeout coupon acceptance rate for a(n) {column} of \"{value}\" is',\n",
        "            '{0:.2%}'.format(takeout_acceptance_rate(query))\n",
        "        )\n"
      ]
    },
    {
      "cell_type": "code",
      "execution_count": 29,
      "metadata": {
        "id": "_oykf8YP_qRL"
      },
      "outputs": [
        {
          "name": "stdout",
          "output_type": "stream",
          "text": [
            "The takeout coupon acceptance rate for a(n) has_children of \"1\" is 73.98%\n",
            "The takeout coupon acceptance rate for a(n) has_children of \"0\" is 73.23%\n",
            "\n",
            "The takeout coupon acceptance rate for a(n) education of \"Some college - no degree\" is 76.46%\n",
            "The takeout coupon acceptance rate for a(n) education of \"Bachelors degree\" is 71.43%\n",
            "The takeout coupon acceptance rate for a(n) education of \"Associates degree\" is 81.74%\n",
            "The takeout coupon acceptance rate for a(n) education of \"High School Graduate\" is 74.59%\n",
            "The takeout coupon acceptance rate for a(n) education of \"Graduate degree (Masters or Doctorate)\" is 65.36%\n",
            "The takeout coupon acceptance rate for a(n) education of \"Some High School\" is 93.75%\n",
            "\n",
            "Found something interesting! Drivers who either had some high schooling or an Associates degree were more likely to accept a takeout coupon.\n"
          ]
        }
      ],
      "source": [
        "# 5. are parents more likely to accept takeout coupons?\n",
        "list_takeout_acceptance_rates('has_children')\n",
        "print()\n",
        "\n",
        "# 6. how does education level affect coupon acceptance?\n",
        "list_takeout_acceptance_rates('education')\n",
        "print()\n",
        "\n",
        "print('Found something interesting! Drivers who either had some high schooling or an Associates degree were more likely to accept a takeout coupon.')"
      ]
    },
    {
      "cell_type": "code",
      "execution_count": 30,
      "metadata": {},
      "outputs": [
        {
          "data": {
            "text/plain": [
              "([0, 1, 2, 3, 4, 5],\n",
              " [Text(0, 0, 'Some High School'),\n",
              "  Text(1, 0, 'High School Graduate'),\n",
              "  Text(2, 0, 'Some college - no degree'),\n",
              "  Text(3, 0, 'Associates degree'),\n",
              "  Text(4, 0, 'Bachelors degree'),\n",
              "  Text(5, 0, 'Graduate degree')])"
            ]
          },
          "execution_count": 30,
          "metadata": {},
          "output_type": "execute_result"
        },
        {
          "data": {
            "image/png": "[encoded data removed]",
            "text/plain": [
              "<Figure size 640x480 with 1 Axes>"
            ]
          },
          "metadata": {},
          "output_type": "display_data"
        }
      ],
      "source": [
        "# Making a graph for education\n",
        "\n",
        "# first, start with data\n",
        "educations = [\n",
        "    'Some High School',\n",
        "    'High School Graduate',\n",
        "    'Some college - no degree',\n",
        "    'Associates degree',\n",
        "    'Bachelors degree',\n",
        "    'Graduate degree (Masters or Doctorate)'\n",
        "]\n",
        "takeout_acceptance_by_education = []\n",
        "\n",
        "for education in educations:\n",
        "    takeout_acceptance_by_education.append(takeout_acceptance_rate(f'education == \"{education}\"'))\n",
        "\n",
        "# shorten graduate degree name for graph\n",
        "educations[-1] = 'Graduate degree'\n",
        "\n",
        "takeout_data_by_education = {\n",
        "    'Education': educations,\n",
        "    'Acceptance Rate': takeout_acceptance_by_education\n",
        "}\n",
        "\n",
        "takeout_education_dataframe = pd.DataFrame(takeout_data_by_education)\n",
        "\n",
        "# plot the times vs their acceptance rates with seaborn\n",
        "coupon_barplot = sns.barplot(data=takeout_education_dataframe, x='Education', y='Acceptance Rate', hue='Education', legend=False, palette='Set2')\n",
        "coupon_barplot.set_title('Takeout Coupon Acceptance Rate by Driver Education Level')\n",
        "coupon_barplot.set_xlabel('Education Level')\n",
        "coupon_barplot.set_ylabel('Acceptance Rate')\n",
        "plt.xticks(rotation=45)"
      ]
    },
    {
      "cell_type": "code",
      "execution_count": 31,
      "metadata": {},
      "outputs": [
        {
          "name": "stdout",
          "output_type": "stream",
          "text": [
            "The takeout coupon acceptance rate for a(n) occupation of \"Unemployed\" is 75.21%\n",
            "The takeout coupon acceptance rate for a(n) occupation of \"Architecture & Engineering\" is 63.33%\n",
            "The takeout coupon acceptance rate for a(n) occupation of \"Student\" is 67.73%\n",
            "The takeout coupon acceptance rate for a(n) occupation of \"Education&Training&Library\" is 71.67%\n",
            "The takeout coupon acceptance rate for a(n) occupation of \"Healthcare Support\" is 83.33%\n",
            "The takeout coupon acceptance rate for a(n) occupation of \"Healthcare Practitioners & Technical\" is 88.89%\n",
            "The takeout coupon acceptance rate for a(n) occupation of \"Sales & Related\" is 72.28%\n",
            "The takeout coupon acceptance rate for a(n) occupation of \"Management\" is 78.77%\n",
            "The takeout coupon acceptance rate for a(n) occupation of \"Arts Design Entertainment Sports & Media\" is 63.48%\n",
            "The takeout coupon acceptance rate for a(n) occupation of \"Computer & Mathematical\" is 71.71%\n",
            "The takeout coupon acceptance rate for a(n) occupation of \"Life Physical Social Science\" is 50.00%\n",
            "The takeout coupon acceptance rate for a(n) occupation of \"Personal Care & Service\" is 75.68%\n",
            "The takeout coupon acceptance rate for a(n) occupation of \"Community & Social Services\" is 72.34%\n",
            "The takeout coupon acceptance rate for a(n) occupation of \"Office & Administrative Support\" is 77.24%\n",
            "The takeout coupon acceptance rate for a(n) occupation of \"Construction & Extraction\" is 96.43%\n",
            "The takeout coupon acceptance rate for a(n) occupation of \"Legal\" is 53.66%\n",
            "The takeout coupon acceptance rate for a(n) occupation of \"Retired\" is 71.11%\n",
            "The takeout coupon acceptance rate for a(n) occupation of \"Installation Maintenance & Repair\" is 62.50%\n",
            "The takeout coupon acceptance rate for a(n) occupation of \"Transportation & Material Moving\" is 81.58%\n",
            "The takeout coupon acceptance rate for a(n) occupation of \"Business & Financial\" is 81.73%\n",
            "The takeout coupon acceptance rate for a(n) occupation of \"Protective Service\" is 96.77%\n",
            "The takeout coupon acceptance rate for a(n) occupation of \"Food Preparation & Serving Related\" is 82.54%\n",
            "The takeout coupon acceptance rate for a(n) occupation of \"Production Occupations\" is 73.08%\n",
            "The takeout coupon acceptance rate for a(n) occupation of \"Building & Grounds Cleaning & Maintenance\" is 100.00%\n",
            "The takeout coupon acceptance rate for a(n) occupation of \"Farming Fishing & Forestry\" is 80.00%\n"
          ]
        }
      ],
      "source": [
        "# 7. occupation's effect on takeout coupon acceptance?\n",
        "list_takeout_acceptance_rates('occupation')"
      ]
    },
    {
      "cell_type": "code",
      "execution_count": 32,
      "metadata": {},
      "outputs": [
        {
          "data": {
            "text/plain": [
              "([0,\n",
              "  1,\n",
              "  2,\n",
              "  3,\n",
              "  4,\n",
              "  5,\n",
              "  6,\n",
              "  7,\n",
              "  8,\n",
              "  9,\n",
              "  10,\n",
              "  11,\n",
              "  12,\n",
              "  13,\n",
              "  14,\n",
              "  15,\n",
              "  16,\n",
              "  17,\n",
              "  18,\n",
              "  19,\n",
              "  20,\n",
              "  21,\n",
              "  22,\n",
              "  23,\n",
              "  24],\n",
              " [Text(0, 0, 'Life Physical Social Science'),\n",
              "  Text(1, 0, 'Legal'),\n",
              "  Text(2, 0, 'Installation Maintenance & Repair'),\n",
              "  Text(3, 0, 'Architecture & Engineering'),\n",
              "  Text(4, 0, 'Arts Design Entertainment Sports & Media'),\n",
              "  Text(5, 0, 'Student'),\n",
              "  Text(6, 0, 'Retired'),\n",
              "  Text(7, 0, 'Education&Training&Library'),\n",
              "  Text(8, 0, 'Computer & Mathematical'),\n",
              "  Text(9, 0, 'Sales & Related'),\n",
              "  Text(10, 0, 'Community & Social Services'),\n",
              "  Text(11, 0, 'Production Occupations'),\n",
              "  Text(12, 0, 'Unemployed'),\n",
              "  Text(13, 0, 'Personal Care & Service'),\n",
              "  Text(14, 0, 'Office & Administrative Support'),\n",
              "  Text(15, 0, 'Management'),\n",
              "  Text(16, 0, 'Farming Fishing & Forestry'),\n",
              "  Text(17, 0, 'Transportation & Material Moving'),\n",
              "  Text(18, 0, 'Business & Financial'),\n",
              "  Text(19, 0, 'Food Preparation & Serving Related'),\n",
              "  Text(20, 0, 'Healthcare Support'),\n",
              "  Text(21, 0, 'Healthcare Practitioners & Technical'),\n",
              "  Text(22, 0, 'Construction & Extraction'),\n",
              "  Text(23, 0, 'Protective Service'),\n",
              "  Text(24, 0, 'Building & Grounds Cleaning & Maintenance')])"
            ]
          },
          "execution_count": 32,
          "metadata": {},
          "output_type": "execute_result"
        },
        {
          "data": {
            "image/png": "[encoded data removed]",
            "text/plain": [
              "<Figure size 2000x1000 with 1 Axes>"
            ]
          },
          "metadata": {},
          "output_type": "display_data"
        }
      ],
      "source": [
        "# now make a graph\n",
        "occupations = takeout_data['occupation'].unique()\n",
        "\n",
        "takeout_acceptance_by_occupation = []\n",
        "\n",
        "for occupation in occupations:\n",
        "    takeout_acceptance_by_occupation.append(takeout_acceptance_rate(f'occupation == \"{occupation}\"'))\n",
        "\n",
        "takeout_data_by_occupation = {\n",
        "    'Occupation': occupations,\n",
        "    'Acceptance Rate': takeout_acceptance_by_occupation\n",
        "}\n",
        "\n",
        "takeout_occupation_dataframe = pd.DataFrame(takeout_data_by_occupation).sort_values('Acceptance Rate')\n",
        "\n",
        "# plot the times vs their acceptance rates with seaborn\n",
        "\n",
        "plt.figure(figsize=(20, 10))\n",
        "coupon_barplot = sns.barplot(data=takeout_occupation_dataframe, x='Occupation', y='Acceptance Rate', hue='Occupation', legend=False, palette='Set2')\n",
        "coupon_barplot.set_title('Takeout Coupon Acceptance Rate by Driver Occupation')\n",
        "coupon_barplot.set_xlabel('Occupation')\n",
        "coupon_barplot.set_ylabel('Acceptance Rate')\n",
        "plt.xticks(rotation=90)\n"
      ]
    },
    {
      "cell_type": "code",
      "execution_count": 33,
      "metadata": {},
      "outputs": [
        {
          "name": "stdout",
          "output_type": "stream",
          "text": [
            "The takeout coupon acceptance rate for a(n) income of \"$37500 - $49999\" is 71.26%\n",
            "The takeout coupon acceptance rate for a(n) income of \"$62500 - $74999\" is 72.61%\n",
            "The takeout coupon acceptance rate for a(n) income of \"$12500 - $24999\" is 75.29%\n",
            "The takeout coupon acceptance rate for a(n) income of \"$75000 - $87499\" is 65.68%\n",
            "The takeout coupon acceptance rate for a(n) income of \"$50000 - $62499\" is 77.21%\n",
            "The takeout coupon acceptance rate for a(n) income of \"$25000 - $37499\" is 77.49%\n",
            "The takeout coupon acceptance rate for a(n) income of \"$100000 or More\" is 70.59%\n",
            "The takeout coupon acceptance rate for a(n) income of \"$87500 - $99999\" is 71.93%\n",
            "The takeout coupon acceptance rate for a(n) income of \"Less than $12500\" is 75.00%\n"
          ]
        }
      ],
      "source": [
        "# 8. how does income affect acceptance?\n",
        "list_takeout_acceptance_rates('income')"
      ]
    },
    {
      "cell_type": "code",
      "execution_count": 34,
      "metadata": {},
      "outputs": [
        {
          "data": {
            "text/plain": [
              "([0, 1, 2, 3, 4, 5, 6, 7, 8],\n",
              " [Text(0, 0, 'Less than $12500'),\n",
              "  Text(1, 0, '$12500 - $24999'),\n",
              "  Text(2, 0, '$25000 - $37499'),\n",
              "  Text(3, 0, '$37500 - $49999'),\n",
              "  Text(4, 0, '$50000 - $62499'),\n",
              "  Text(5, 0, '$62500 - $74999'),\n",
              "  Text(6, 0, '$75000 - $87499'),\n",
              "  Text(7, 0, '$87500 - $99999'),\n",
              "  Text(8, 0, '$100000 or More')])"
            ]
          },
          "execution_count": 34,
          "metadata": {},
          "output_type": "execute_result"
        },
        {
          "data": {
            "image/png": "[encoded data removed]",
            "text/plain": [
              "<Figure size 640x480 with 1 Axes>"
            ]
          },
          "metadata": {},
          "output_type": "display_data"
        }
      ],
      "source": [
        "# let's make a graph for acceptance rate by income\n",
        "\n",
        "# first, start with data\n",
        "incomes = [\n",
        "    'Less than $12500',\n",
        "    '$12500 - $24999',\n",
        "    '$25000 - $37499',\n",
        "    '$37500 - $49999',\n",
        "    '$50000 - $62499',\n",
        "    '$62500 - $74999',\n",
        "    '$75000 - $87499',\n",
        "    '$87500 - $99999',\n",
        "    '$100000 or More'\n",
        "]\n",
        "takeout_acceptance_by_income = []\n",
        "\n",
        "for income in incomes:\n",
        "    takeout_acceptance_by_income.append(takeout_acceptance_rate(f'income == \"{income}\"'))\n",
        "\n",
        "takeout_data_by_income = {\n",
        "    'Income': incomes,\n",
        "    'Acceptance Rate': takeout_acceptance_by_income\n",
        "}\n",
        "\n",
        "takeout_income_dataframe = pd.DataFrame(takeout_data_by_income)\n",
        "\n",
        "# plot the incomes vs their acceptance rates with seaborn\n",
        "coupon_barplot = sns.barplot(data=takeout_income_dataframe, x='Income', y='Acceptance Rate', hue='Income', legend=False, palette='Set2')\n",
        "coupon_barplot.set_title('Takeout Coupon Acceptance Rate by Driver Income')\n",
        "coupon_barplot.set_xlabel('Income')\n",
        "coupon_barplot.set_ylabel('Acceptance Rate')\n",
        "plt.xticks(rotation=45)"
      ]
    },
    {
      "cell_type": "code",
      "execution_count": 35,
      "metadata": {},
      "outputs": [
        {
          "name": "stdout",
          "output_type": "stream",
          "text": [
            "The proportion of takeout coupons which were accepted by drivers who got CarryAway at least once per month is: 74.37%\n",
            "The proportion of takeout coupons which were accepted by all others is: 69.53%\n",
            "\n",
            "Drivers who tend to get takeout accepted the coupon more than those who get it less than once per month.\n"
          ]
        }
      ],
      "source": [
        "# 9. does acceptance increase if the driver was more likely to get CarryAway at least once per year?\n",
        "carryaway_ge1_per_month = ['1~3', '4~8', 'gt8']\n",
        "print(\n",
        "    'The proportion of takeout coupons which were accepted by drivers who got CarryAway at least once per month is:',\n",
        "    '{0:.2%}'.format(takeout_acceptance_rate('CarryAway in @carryaway_ge1_per_month'))\n",
        ")\n",
        "\n",
        "print(\n",
        "    'The proportion of takeout coupons which were accepted by all others is:',\n",
        "    '{0:.2%}'.format(takeout_acceptance_rate('CarryAway not in @carryaway_ge1_per_month'))\n",
        ")\n",
        "\n",
        "print('\\nDrivers who tend to get takeout accepted the coupon more than those who get it less than once per month.')"
      ]
    },
    {
      "cell_type": "markdown",
      "metadata": {},
      "source": [
        "### Findings\n",
        "\n",
        "Based on the analysis of the data, it appears that drivers who accepted the Carry Out and Take Away coupons, hereafter referred to as Takeout coupons, tended to have the following in common:\n",
        "\n",
        "1. **Destination:** Drivers were more likely to accept a takeout coupon if they were either driving home, or had no urgent destination.\n",
        "\n",
        "2. **Weather & Time of Day:** Drivers were more likely to accept a takeout coupon when the weather that day was sunny, and generally during later such as 2PM, 6PM, and 10PM.\n",
        "\n",
        "3. **Education Level:** Drivers were vastly more likely to accept a takeout coupon if they had not (yet) graduated high school.\n",
        "\n",
        "4. **Occupation:** Drivers who worked in Healthcare, Construction, Protective Services, Cleaning, and Maintenance were vastly more likely to accept a takeout coupon than others.\n",
        "\n",
        "5. **Lifestyle:** Drivers who tended to get takeout at least once per month were more likely to accept the coupon than otherwise."
      ]
    },
    {
      "cell_type": "markdown",
      "metadata": {},
      "source": [
        "### Actionable Items and Recommendations\n",
        "\n",
        "Using the findings above, it may be possible to increase the overall acceptance rate of Takeout coupons by doing the following:\n",
        "\n",
        "1. Issue coupons during peak mealtime hours, such as 2PM and 6PM, giving the drivers an incentive to use the coupons immediately.\n",
        "\n",
        "2. Issue more takeout coupons towards drivers who already get takeout at least somewhat regularly, as they are more likely to benefit from (and thus use) the coupons.\n",
        "\n",
        "3. Target drivers based on demographic:\n",
        "\n",
        "  * High school students are more likely to accept a coupon, likely due to having a limited amount of disposable income.\n",
        "\n",
        "  * Adults who work in time-consuming, labor-intensive, or high stress industries, such as Healthcare and Construction, are also more likely to accept a coupon for takeout, as it provides a quick and easy meal."
      ]
    },
    {
      "cell_type": "markdown",
      "metadata": {},
      "source": []
    }
  ],
  "metadata": {
    "colab": {
      "provenance": []
    },
    "kernelspec": {
      "display_name": "base",
      "language": "python",
      "name": "python3"
    },
    "language_info": {
      "codemirror_mode": {
        "name": "ipython",
        "version": 3
      },
      "file_extension": ".py",
      "mimetype": "text/x-python",
      "name": "python",
      "nbconvert_exporter": "python",
      "pygments_lexer": "ipython3",
      "version": "3.12.4"
    }
  },
  "nbformat": 4,
  "nbformat_minor": 0
}
